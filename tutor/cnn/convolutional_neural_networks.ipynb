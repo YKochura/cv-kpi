{
  "nbformat": 4,
  "nbformat_minor": 0,
  "metadata": {
    "kernelspec": {
      "display_name": "Python 3",
      "language": "python",
      "name": "python3"
    },
    "language_info": {
      "codemirror_mode": {
        "name": "ipython",
        "version": 3
      },
      "file_extension": ".py",
      "mimetype": "text/x-python",
      "name": "python",
      "nbconvert_exporter": "python",
      "pygments_lexer": "ipython3",
      "version": "3.5.2"
    },
    "colab": {
      "name": "convolutional_neural_networks.ipynb",
      "provenance": [],
      "collapsed_sections": []
    },
    "accelerator": "GPU",
    "widgets": {
      "application/vnd.jupyter.widget-state+json": {
        "51085f0ef3c84396a55b237b1256da19": {
          "model_module": "@jupyter-widgets/controls",
          "model_name": "HBoxModel",
          "model_module_version": "1.5.0",
          "state": {
            "_view_name": "HBoxView",
            "_dom_classes": [],
            "_model_name": "HBoxModel",
            "_view_module": "@jupyter-widgets/controls",
            "_model_module_version": "1.5.0",
            "_view_count": null,
            "_view_module_version": "1.5.0",
            "box_style": "",
            "layout": "IPY_MODEL_30eec217d434406d9bf17eed5f7a4b27",
            "_model_module": "@jupyter-widgets/controls",
            "children": [
              "IPY_MODEL_f8c01f8c5d9f45aea31cbbc5104906e1",
              "IPY_MODEL_5922b3d1d99a41e383d4ef44c52d8aa7",
              "IPY_MODEL_9d73dbfb134c486bb2d9e63883a2647b"
            ]
          }
        },
        "30eec217d434406d9bf17eed5f7a4b27": {
          "model_module": "@jupyter-widgets/base",
          "model_name": "LayoutModel",
          "model_module_version": "1.2.0",
          "state": {
            "_view_name": "LayoutView",
            "grid_template_rows": null,
            "right": null,
            "justify_content": null,
            "_view_module": "@jupyter-widgets/base",
            "overflow": null,
            "_model_module_version": "1.2.0",
            "_view_count": null,
            "flex_flow": null,
            "width": null,
            "min_width": null,
            "border": null,
            "align_items": null,
            "bottom": null,
            "_model_module": "@jupyter-widgets/base",
            "top": null,
            "grid_column": null,
            "overflow_y": null,
            "overflow_x": null,
            "grid_auto_flow": null,
            "grid_area": null,
            "grid_template_columns": null,
            "flex": null,
            "_model_name": "LayoutModel",
            "justify_items": null,
            "grid_row": null,
            "max_height": null,
            "align_content": null,
            "visibility": null,
            "align_self": null,
            "height": null,
            "min_height": null,
            "padding": null,
            "grid_auto_rows": null,
            "grid_gap": null,
            "max_width": null,
            "order": null,
            "_view_module_version": "1.2.0",
            "grid_template_areas": null,
            "object_position": null,
            "object_fit": null,
            "grid_auto_columns": null,
            "margin": null,
            "display": null,
            "left": null
          }
        },
        "f8c01f8c5d9f45aea31cbbc5104906e1": {
          "model_module": "@jupyter-widgets/controls",
          "model_name": "HTMLModel",
          "model_module_version": "1.5.0",
          "state": {
            "_view_name": "HTMLView",
            "style": "IPY_MODEL_e5d8e646b5d8476f812585c89ca1a00d",
            "_dom_classes": [],
            "description": "",
            "_model_name": "HTMLModel",
            "placeholder": "​",
            "_view_module": "@jupyter-widgets/controls",
            "_model_module_version": "1.5.0",
            "value": "",
            "_view_count": null,
            "_view_module_version": "1.5.0",
            "description_tooltip": null,
            "_model_module": "@jupyter-widgets/controls",
            "layout": "IPY_MODEL_0002026a7d06443b867d75bef90cb3ed"
          }
        },
        "5922b3d1d99a41e383d4ef44c52d8aa7": {
          "model_module": "@jupyter-widgets/controls",
          "model_name": "FloatProgressModel",
          "model_module_version": "1.5.0",
          "state": {
            "_view_name": "ProgressView",
            "style": "IPY_MODEL_c70be9205e03416ca4d1e8b1ea01056e",
            "_dom_classes": [],
            "description": "",
            "_model_name": "FloatProgressModel",
            "bar_style": "success",
            "max": 170498071,
            "_view_module": "@jupyter-widgets/controls",
            "_model_module_version": "1.5.0",
            "value": 170498071,
            "_view_count": null,
            "_view_module_version": "1.5.0",
            "orientation": "horizontal",
            "min": 0,
            "description_tooltip": null,
            "_model_module": "@jupyter-widgets/controls",
            "layout": "IPY_MODEL_8120b5865bc5467aaa2a13fc6563f565"
          }
        },
        "9d73dbfb134c486bb2d9e63883a2647b": {
          "model_module": "@jupyter-widgets/controls",
          "model_name": "HTMLModel",
          "model_module_version": "1.5.0",
          "state": {
            "_view_name": "HTMLView",
            "style": "IPY_MODEL_71cbc2a61f5f414fb3012b45091d5d00",
            "_dom_classes": [],
            "description": "",
            "_model_name": "HTMLModel",
            "placeholder": "​",
            "_view_module": "@jupyter-widgets/controls",
            "_model_module_version": "1.5.0",
            "value": " 170499072/? [00:03&lt;00:00, 51803057.60it/s]",
            "_view_count": null,
            "_view_module_version": "1.5.0",
            "description_tooltip": null,
            "_model_module": "@jupyter-widgets/controls",
            "layout": "IPY_MODEL_815d365b954549068bc9a835a2610ab5"
          }
        },
        "e5d8e646b5d8476f812585c89ca1a00d": {
          "model_module": "@jupyter-widgets/controls",
          "model_name": "DescriptionStyleModel",
          "model_module_version": "1.5.0",
          "state": {
            "_view_name": "StyleView",
            "_model_name": "DescriptionStyleModel",
            "description_width": "",
            "_view_module": "@jupyter-widgets/base",
            "_model_module_version": "1.5.0",
            "_view_count": null,
            "_view_module_version": "1.2.0",
            "_model_module": "@jupyter-widgets/controls"
          }
        },
        "0002026a7d06443b867d75bef90cb3ed": {
          "model_module": "@jupyter-widgets/base",
          "model_name": "LayoutModel",
          "model_module_version": "1.2.0",
          "state": {
            "_view_name": "LayoutView",
            "grid_template_rows": null,
            "right": null,
            "justify_content": null,
            "_view_module": "@jupyter-widgets/base",
            "overflow": null,
            "_model_module_version": "1.2.0",
            "_view_count": null,
            "flex_flow": null,
            "width": null,
            "min_width": null,
            "border": null,
            "align_items": null,
            "bottom": null,
            "_model_module": "@jupyter-widgets/base",
            "top": null,
            "grid_column": null,
            "overflow_y": null,
            "overflow_x": null,
            "grid_auto_flow": null,
            "grid_area": null,
            "grid_template_columns": null,
            "flex": null,
            "_model_name": "LayoutModel",
            "justify_items": null,
            "grid_row": null,
            "max_height": null,
            "align_content": null,
            "visibility": null,
            "align_self": null,
            "height": null,
            "min_height": null,
            "padding": null,
            "grid_auto_rows": null,
            "grid_gap": null,
            "max_width": null,
            "order": null,
            "_view_module_version": "1.2.0",
            "grid_template_areas": null,
            "object_position": null,
            "object_fit": null,
            "grid_auto_columns": null,
            "margin": null,
            "display": null,
            "left": null
          }
        },
        "c70be9205e03416ca4d1e8b1ea01056e": {
          "model_module": "@jupyter-widgets/controls",
          "model_name": "ProgressStyleModel",
          "model_module_version": "1.5.0",
          "state": {
            "_view_name": "StyleView",
            "_model_name": "ProgressStyleModel",
            "description_width": "",
            "_view_module": "@jupyter-widgets/base",
            "_model_module_version": "1.5.0",
            "_view_count": null,
            "_view_module_version": "1.2.0",
            "bar_color": null,
            "_model_module": "@jupyter-widgets/controls"
          }
        },
        "8120b5865bc5467aaa2a13fc6563f565": {
          "model_module": "@jupyter-widgets/base",
          "model_name": "LayoutModel",
          "model_module_version": "1.2.0",
          "state": {
            "_view_name": "LayoutView",
            "grid_template_rows": null,
            "right": null,
            "justify_content": null,
            "_view_module": "@jupyter-widgets/base",
            "overflow": null,
            "_model_module_version": "1.2.0",
            "_view_count": null,
            "flex_flow": null,
            "width": null,
            "min_width": null,
            "border": null,
            "align_items": null,
            "bottom": null,
            "_model_module": "@jupyter-widgets/base",
            "top": null,
            "grid_column": null,
            "overflow_y": null,
            "overflow_x": null,
            "grid_auto_flow": null,
            "grid_area": null,
            "grid_template_columns": null,
            "flex": null,
            "_model_name": "LayoutModel",
            "justify_items": null,
            "grid_row": null,
            "max_height": null,
            "align_content": null,
            "visibility": null,
            "align_self": null,
            "height": null,
            "min_height": null,
            "padding": null,
            "grid_auto_rows": null,
            "grid_gap": null,
            "max_width": null,
            "order": null,
            "_view_module_version": "1.2.0",
            "grid_template_areas": null,
            "object_position": null,
            "object_fit": null,
            "grid_auto_columns": null,
            "margin": null,
            "display": null,
            "left": null
          }
        },
        "71cbc2a61f5f414fb3012b45091d5d00": {
          "model_module": "@jupyter-widgets/controls",
          "model_name": "DescriptionStyleModel",
          "model_module_version": "1.5.0",
          "state": {
            "_view_name": "StyleView",
            "_model_name": "DescriptionStyleModel",
            "description_width": "",
            "_view_module": "@jupyter-widgets/base",
            "_model_module_version": "1.5.0",
            "_view_count": null,
            "_view_module_version": "1.2.0",
            "_model_module": "@jupyter-widgets/controls"
          }
        },
        "815d365b954549068bc9a835a2610ab5": {
          "model_module": "@jupyter-widgets/base",
          "model_name": "LayoutModel",
          "model_module_version": "1.2.0",
          "state": {
            "_view_name": "LayoutView",
            "grid_template_rows": null,
            "right": null,
            "justify_content": null,
            "_view_module": "@jupyter-widgets/base",
            "overflow": null,
            "_model_module_version": "1.2.0",
            "_view_count": null,
            "flex_flow": null,
            "width": null,
            "min_width": null,
            "border": null,
            "align_items": null,
            "bottom": null,
            "_model_module": "@jupyter-widgets/base",
            "top": null,
            "grid_column": null,
            "overflow_y": null,
            "overflow_x": null,
            "grid_auto_flow": null,
            "grid_area": null,
            "grid_template_columns": null,
            "flex": null,
            "_model_name": "LayoutModel",
            "justify_items": null,
            "grid_row": null,
            "max_height": null,
            "align_content": null,
            "visibility": null,
            "align_self": null,
            "height": null,
            "min_height": null,
            "padding": null,
            "grid_auto_rows": null,
            "grid_gap": null,
            "max_width": null,
            "order": null,
            "_view_module_version": "1.2.0",
            "grid_template_areas": null,
            "object_position": null,
            "object_fit": null,
            "grid_auto_columns": null,
            "margin": null,
            "display": null,
            "left": null
          }
        }
      }
    }
  },
  "cells": [
    {
      "cell_type": "markdown",
      "source": [
        "<a href=\"https://colab.research.google.com/github/YKochura/cv-kpi/blob/main/tutor/cnn/convolutional_neural_networks.ipynb\" target=\"_parent\"><img src=\"https://colab.research.google.com/assets/colab-badge.svg\" alt=\"Open In Colab\"/></a>\n",
        "\n",
        "\n",
        "\n",
        "*   Author: Gene Kogan  et al.\n",
        "\n"
      ],
      "metadata": {
        "id": "pr7btnF1cpYs"
      }
    },
    {
      "cell_type": "markdown",
      "metadata": {
        "id": "7QSriRbEfWQd"
      },
      "source": [
        "### Convolutional networks\n",
        "\n",
        "This is an annotated version of PyTorch's [example MNIST CNN code](https://pytorch.org/tutorials/beginner/blitz/cifar10_tutorial.html) for how to implement convolutional networks.\n",
        "\n",
        "The CIFAR-10 classification task is a classic machine learning benchmark. The data includes 50,000 images belonging to 10 classes, and the task is to identify them. Along with MNIST, CIFAR-10 classification is a sort of like a \"hello world\" for computer vision and convolutional networks, so a solution can be implemented quickly with an off-the-shelf machine learning library.\n",
        "\n",
        "Since convolutional neural networks have thus far proven to be the best at computer vision tasks, we'll use the PyTorch library to implement a convolutional networks as our solution.\n",
        "\n",
        "Note, if you have been running these notebooks on a regular laptop without GPU until now, it's going to become more and more difficult to do so. The neural networks we will be training, starting with convolutional networks, will become increasingly memory and processing-intensive and may slow down laptops without good graphics processing. As such, it is recommended that you follow future tutorials inside Google Collab or a sufficiently powerful computer. \n",
        "\n",
        "Collab does not automatically include a GPU in it's runtime. Rather by navigating to Edit>Notebook Settings>Hardware Accelerator>GPU you can enable a gpu."
      ]
    },
    {
      "cell_type": "code",
      "metadata": {
        "id": "-oqQz7fGfWQe"
      },
      "source": [
        "import random\n",
        "import numpy as np\n",
        "import matplotlib.pyplot as plt\n",
        "\n",
        "import torch\n",
        "import torch.nn as nn\n",
        "import torch.nn.functional as F\n",
        "import torchvision\n",
        "import torchvision.transforms as transforms\n",
        "\n",
        "device = torch.device(\"cuda:0\" if torch.cuda.is_available() else \"cpu\")"
      ],
      "execution_count": 1,
      "outputs": []
    },
    {
      "cell_type": "markdown",
      "metadata": {
        "id": "LE31tDEQfWQg"
      },
      "source": [
        "Recall that a basic neural network in PyTorch can be set up like this:\n",
        "Note:\n",
        "The images in CIFAR-10 are 32 by 32. An easy way to troubleshoot the correct input dimension is to encounter a dimension mismatch error. For example, [2x35] x [1024x4] doesn't work, but [2x1024] x [1924x4] does. This is usually as simple as matching the second matrix's first number with the first matrix's second number."
      ]
    },
    {
      "cell_type": "code",
      "metadata": {
        "id": "OzYJ9JMgfWQh"
      },
      "source": [
        "class Net(nn.Module):\n",
        "\n",
        "    def __init__(self):\n",
        "        super(Net, self).__init__()\n",
        "        self.fc1 = nn.Linear(32, 64) \n",
        "        self.fc2 = nn.Linear(64, 1)\n",
        "    def forward(self, x):\n",
        "         x = F.sigmoid(self.fc1(x))\n",
        "         x = self.fc2(x)\n",
        "         return x\n",
        "\n",
        "net = Net().to(device)"
      ],
      "execution_count": 2,
      "outputs": []
    },
    {
      "cell_type": "markdown",
      "metadata": {
        "id": "c8594MPbfWQj"
      },
      "source": [
        "We load CIFAR-10 dataset and reshape them as individual vectors. This is easy to do using TorchVision as all the classes are essentially reshapen already. Here we use the DataLoader to create an instance of the training dataset and the test set. The DataLoader also has an option to shuffle the dataset, which helps avoid overfitting."
      ]
    },
    {
      "cell_type": "code",
      "metadata": {
        "id": "9Ckw_2iOfWQj",
        "outputId": "1e91daf1-e074-4361-9394-11080ba19c02",
        "colab": {
          "base_uri": "https://localhost:8080/",
          "height": 156,
          "referenced_widgets": [
            "51085f0ef3c84396a55b237b1256da19",
            "30eec217d434406d9bf17eed5f7a4b27",
            "f8c01f8c5d9f45aea31cbbc5104906e1",
            "5922b3d1d99a41e383d4ef44c52d8aa7",
            "9d73dbfb134c486bb2d9e63883a2647b",
            "e5d8e646b5d8476f812585c89ca1a00d",
            "0002026a7d06443b867d75bef90cb3ed",
            "c70be9205e03416ca4d1e8b1ea01056e",
            "8120b5865bc5467aaa2a13fc6563f565",
            "71cbc2a61f5f414fb3012b45091d5d00",
            "815d365b954549068bc9a835a2610ab5"
          ]
        }
      },
      "source": [
        "transform = transforms.Compose(\n",
        "    [transforms.ToTensor(),\n",
        "     transforms.Normalize((0.5, 0.5, 0.5), (0.5, 0.5, 0.5))])\n",
        "\n",
        "trainset = torchvision.datasets.CIFAR10(root='./data', train=True,\n",
        "                                        download=True, transform=transform)\n",
        "trainloader = torch.utils.data.DataLoader(trainset, batch_size=128,\n",
        "                                          shuffle=True, num_workers=8)\n",
        "\n",
        "testset = torchvision.datasets.CIFAR10(root='./data', train=False,\n",
        "                                       download=True, transform=transform)\n",
        "testloader = torch.utils.data.DataLoader(testset, batch_size=128,\n",
        "                                         shuffle=False, num_workers=8)\n",
        "\n",
        "classes = ('plane', 'car', 'bird', 'cat',\n",
        "           'deer', 'dog', 'frog', 'horse', 'ship', 'truck')\n"
      ],
      "execution_count": 3,
      "outputs": [
        {
          "output_type": "stream",
          "name": "stdout",
          "text": [
            "Downloading https://www.cs.toronto.edu/~kriz/cifar-10-python.tar.gz to ./data/cifar-10-python.tar.gz\n"
          ]
        },
        {
          "output_type": "display_data",
          "data": {
            "application/vnd.jupyter.widget-view+json": {
              "model_id": "51085f0ef3c84396a55b237b1256da19",
              "version_minor": 0,
              "version_major": 2
            },
            "text/plain": [
              "  0%|          | 0/170498071 [00:00<?, ?it/s]"
            ]
          },
          "metadata": {}
        },
        {
          "output_type": "stream",
          "name": "stdout",
          "text": [
            "Extracting ./data/cifar-10-python.tar.gz to ./data\n"
          ]
        },
        {
          "output_type": "stream",
          "name": "stderr",
          "text": [
            "/usr/local/lib/python3.7/dist-packages/torch/utils/data/dataloader.py:481: UserWarning: This DataLoader will create 8 worker processes in total. Our suggested max number of worker in current system is 2, which is smaller than what this DataLoader is going to create. Please be aware that excessive worker creation might get DataLoader running slow or even freeze, lower the worker number to avoid potential slowness/freeze if necessary.\n",
            "  cpuset_checked))\n"
          ]
        },
        {
          "output_type": "stream",
          "name": "stdout",
          "text": [
            "Files already downloaded and verified\n"
          ]
        }
      ]
    },
    {
      "cell_type": "markdown",
      "metadata": {
        "id": "42I-jZ-sfWQl"
      },
      "source": [
        "Let's see some of our samples."
      ]
    },
    {
      "cell_type": "code",
      "metadata": {
        "id": "H6BXkvqEfWQm",
        "outputId": "2c376699-0141-401d-98b4-419b4b971ff7",
        "colab": {
          "base_uri": "https://localhost:8080/",
          "height": 324
        }
      },
      "source": [
        "def imshow(img):\n",
        "    img = img / 2 + 0.5     # unnormalize\n",
        "    npimg = img.numpy()\n",
        "    plt.imshow(np.transpose(npimg, (1, 2, 0)))\n",
        "    plt.show()\n",
        "\n",
        "\n",
        "# get some random training images\n",
        "dataiter = iter(trainloader)\n",
        "images, labels = dataiter.next()\n",
        "\n",
        "# show images\n",
        "imshow(torchvision.utils.make_grid(images))\n",
        "# print labels\n",
        "print(' '.join('%5s' % classes[labels[j]] for j in range(4)))\n"
      ],
      "execution_count": 4,
      "outputs": [
        {
          "output_type": "stream",
          "name": "stderr",
          "text": [
            "/usr/local/lib/python3.7/dist-packages/torch/utils/data/dataloader.py:481: UserWarning: This DataLoader will create 8 worker processes in total. Our suggested max number of worker in current system is 2, which is smaller than what this DataLoader is going to create. Please be aware that excessive worker creation might get DataLoader running slow or even freeze, lower the worker number to avoid potential slowness/freeze if necessary.\n",
            "  cpuset_checked))\n"
          ]
        },
        {
          "output_type": "display_data",
          "data": {
            "image/png": "[encoded data removed]",
            "text/plain": [
              "<Figure size 432x288 with 1 Axes>"
            ]
          },
          "metadata": {
            "needs_background": "light"
          }
        }
      ]
    },
    {
      "cell_type": "markdown",
      "metadata": {
        "id": "cUxNBpIGfWQo"
      },
      "source": [
        "We can compile the model using categorical-cross-entropy loss, and train it for 30 epochs."
      ]
    },
    {
      "cell_type": "code",
      "metadata": {
        "id": "mH8QXCPsfWQo",
        "outputId": "5bff587e-04b4-4120-b868-63c6b490b880",
        "colab": {
          "base_uri": "https://localhost:8080/"
        }
      },
      "source": [
        "from torch import optim\n",
        "optimizer = optim.SGD(net.parameters(), lr=0.01)\n",
        "criterion = nn.MSELoss()\n",
        "\n",
        "def fullPass(loader):\n",
        "\n",
        "    running_loss = 0.0\n",
        "    for i, data in enumerate(loader, 0):\n",
        "        inputs, labels = data\n",
        "        inputs, labels = inputs.to(device), labels.to(device)\n",
        "        outputs = net(inputs)\n",
        "        loss = criterion(outputs, labels.float())\n",
        "        loss.backward()\n",
        "        optimizer.step()\n",
        "\n",
        "        # print statistics\n",
        "        running_loss += loss\n",
        "        if i % inputs.size()[0] == inputs.size()[0]-1:\n",
        "            print('[%d, %5d] loss: %.3f' %\n",
        "                  (epoch + 1, i + 1, running_loss / inputs.size()[0]))\n",
        "            running_loss = 0.0\n",
        "\n",
        "net.train()\n",
        "for epoch in range(30):\n",
        "    fullPass(trainloader);\n",
        "\n",
        "\n",
        "print('Finished Training')\n"
      ],
      "execution_count": 5,
      "outputs": [
        {
          "output_type": "stream",
          "name": "stdout",
          "text": [
            "plane plane plane plane\n"
          ]
        },
        {
          "output_type": "stream",
          "name": "stderr",
          "text": [
            "/usr/local/lib/python3.7/dist-packages/torch/utils/data/dataloader.py:481: UserWarning: This DataLoader will create 8 worker processes in total. Our suggested max number of worker in current system is 2, which is smaller than what this DataLoader is going to create. Please be aware that excessive worker creation might get DataLoader running slow or even freeze, lower the worker number to avoid potential slowness/freeze if necessary.\n",
            "  cpuset_checked))\n",
            "/usr/local/lib/python3.7/dist-packages/torch/nn/functional.py:1806: UserWarning: nn.functional.sigmoid is deprecated. Use torch.sigmoid instead.\n",
            "  warnings.warn(\"nn.functional.sigmoid is deprecated. Use torch.sigmoid instead.\")\n",
            "/usr/local/lib/python3.7/dist-packages/torch/nn/modules/loss.py:520: UserWarning: Using a target size (torch.Size([128])) that is different to the input size (torch.Size([128, 3, 32, 1])). This will likely lead to incorrect results due to broadcasting. Please ensure they have the same size.\n",
            "  return F.mse_loss(input, target, reduction=self.reduction)\n"
          ]
        },
        {
          "output_type": "stream",
          "name": "stdout",
          "text": [
            "[1,   128] loss: 13.524\n",
            "[1,   256] loss: 10.790\n",
            "[1,   384] loss: 10.483\n"
          ]
        },
        {
          "output_type": "stream",
          "name": "stderr",
          "text": [
            "/usr/local/lib/python3.7/dist-packages/torch/nn/modules/loss.py:520: UserWarning: Using a target size (torch.Size([80])) that is different to the input size (torch.Size([80, 3, 32, 1])). This will likely lead to incorrect results due to broadcasting. Please ensure they have the same size.\n",
            "  return F.mse_loss(input, target, reduction=self.reduction)\n"
          ]
        },
        {
          "output_type": "stream",
          "name": "stdout",
          "text": [
            "[2,   128] loss: 10.628\n",
            "[2,   256] loss: 10.361\n",
            "[2,   384] loss: 10.273\n",
            "[3,   128] loss: 10.606\n",
            "[3,   256] loss: 11.188\n",
            "[3,   384] loss: 12.252\n",
            "[4,   128] loss: 13.003\n",
            "[4,   256] loss: 12.588\n",
            "[4,   384] loss: 13.443\n",
            "[5,   128] loss: 13.835\n",
            "[5,   256] loss: 14.660\n",
            "[5,   384] loss: 15.637\n",
            "[6,   128] loss: 15.267\n",
            "[6,   256] loss: 15.580\n",
            "[6,   384] loss: 15.949\n",
            "[7,   128] loss: 16.194\n",
            "[7,   256] loss: 18.671\n",
            "[7,   384] loss: 19.083\n",
            "[8,   128] loss: 18.500\n",
            "[8,   256] loss: 19.334\n",
            "[8,   384] loss: 21.862\n",
            "[9,   128] loss: 22.224\n",
            "[9,   256] loss: 20.968\n",
            "[9,   384] loss: 20.366\n",
            "[10,   128] loss: 22.050\n",
            "[10,   256] loss: 20.274\n",
            "[10,   384] loss: 20.661\n",
            "[11,   128] loss: 21.631\n",
            "[11,   256] loss: 22.073\n",
            "[11,   384] loss: 21.459\n",
            "[12,   128] loss: 23.883\n",
            "[12,   256] loss: 26.323\n",
            "[12,   384] loss: 25.926\n",
            "[13,   128] loss: 26.254\n",
            "[13,   256] loss: 24.871\n",
            "[13,   384] loss: 26.769\n",
            "[14,   128] loss: 24.963\n",
            "[14,   256] loss: 25.096\n",
            "[14,   384] loss: 24.904\n",
            "[15,   128] loss: 26.244\n",
            "[15,   256] loss: 29.129\n",
            "[15,   384] loss: 29.453\n",
            "[16,   128] loss: 28.516\n",
            "[16,   256] loss: 29.214\n",
            "[16,   384] loss: 29.955\n",
            "[17,   128] loss: 28.004\n",
            "[17,   256] loss: 27.414\n",
            "[17,   384] loss: 25.925\n",
            "[18,   128] loss: 25.512\n",
            "[18,   256] loss: 24.386\n",
            "[18,   384] loss: 23.497\n",
            "[19,   128] loss: 22.301\n",
            "[19,   256] loss: 21.859\n",
            "[19,   384] loss: 22.572\n",
            "[20,   128] loss: 21.523\n",
            "[20,   256] loss: 18.946\n",
            "[20,   384] loss: 19.056\n",
            "[21,   128] loss: 21.213\n",
            "[21,   256] loss: 21.468\n",
            "[21,   384] loss: 23.689\n",
            "[22,   128] loss: 24.081\n",
            "[22,   256] loss: 26.443\n",
            "[22,   384] loss: 25.916\n",
            "[23,   128] loss: 27.343\n",
            "[23,   256] loss: 26.337\n",
            "[23,   384] loss: 26.966\n",
            "[24,   128] loss: 24.055\n",
            "[24,   256] loss: 24.238\n",
            "[24,   384] loss: 23.814\n",
            "[25,   128] loss: 24.302\n",
            "[25,   256] loss: 24.654\n",
            "[25,   384] loss: 23.069\n",
            "[26,   128] loss: 23.066\n",
            "[26,   256] loss: 20.576\n",
            "[26,   384] loss: 20.313\n",
            "[27,   128] loss: 20.161\n",
            "[27,   256] loss: 23.353\n",
            "[27,   384] loss: 22.415\n",
            "[28,   128] loss: 23.385\n",
            "[28,   256] loss: 21.863\n",
            "[28,   384] loss: 21.490\n",
            "[29,   128] loss: 23.901\n",
            "[29,   256] loss: 21.897\n",
            "[29,   384] loss: 21.392\n",
            "[30,   128] loss: 20.383\n",
            "[30,   256] loss: 18.999\n",
            "[30,   384] loss: 18.311\n",
            "Finished Training\n"
          ]
        }
      ]
    },
    {
      "cell_type": "markdown",
      "metadata": {
        "id": "i50bFYpWfWQq"
      },
      "source": [
        "At this point, there is practically no need to evaluate the model as our neural net is simply not cutting it. With a loss function in the millions, we cannot use a single layer simple neural network on images."
      ]
    },
    {
      "cell_type": "markdown",
      "metadata": {
        "id": "Q9EPu5HHfWQt"
      },
      "source": [
        "Introducing, the convolutional network... The general architecture of a convolutional neural network is this:\n",
        "\n",
        "- convolution layers, followed by pooling layers\n",
        "- fully-connected layers\n",
        "- a final fully-connected softmax layer\n",
        "\n",
        "We'll follow this same basic structure and interweave some other components, such as [dropout](https://en.wikipedia.org/wiki/Dropout_(neural_networks), to improve performance.\n",
        "\n",
        "To begin, we start with our convolution layers. We first need to specify some architectural hyperparemeters:\n",
        "\n",
        "- _How many filters do we want for our convolution layers?_ Like most hyperparameters, this is chosen through a mix of intuition and tuning. A rough rule of thumb is: the more complex the task, the more filters. (Note that we don't need to have the same number of filters for each convolution layer, but we are doing so here for convenience.)\n",
        "- _What size should our convolution filters be?_ We don't want filters to be too large or the resulting matrix might not be very meaningful. For instance, a useless filter size in this task would be a 28x28 filter since it covers the whole image. We also don't want filters to be too small for a similar reason, e.g. a 1x1 filter just returns each pixel.\n",
        "- _What size should our pooling window be?_ Again, we don't want pooling windows to be too large or we'll be throwing away information. However, for larger images, a larger pooling window might be appropriate (same goes for convolution filters).\n",
        "\n",
        "We start by designing a neural network with two alternating convolutional and max-pooling layers, followed by a 100-neuron fully-connected layer and a 10-neuron output. We'll have 64 and 32 filters in the two convolutional layers, and make the input shape a full-sized image (32x32x3) instead of an unrolled vector (3072x1).  We also now use ReLU activation units instead of sigmoids, to avoid vanishing gradients."
      ]
    },
    {
      "cell_type": "code",
      "metadata": {
        "id": "9oohj429fWQt",
        "outputId": "386ae9f2-f70f-4c49-e219-44eb21b95616",
        "colab": {
          "base_uri": "https://localhost:8080/"
        }
      },
      "source": [
        "class Net(nn.Module):\n",
        "    def __init__(self):\n",
        "        super(Net, self).__init__()\n",
        "        self.conv1 = nn.Conv2d(3, 6, 5)\n",
        "        self.pool = nn.MaxPool2d(2, 2)\n",
        "        self.conv2 = nn.Conv2d(6, 16, 5)\n",
        "        self.fc1 = nn.Linear(16 * 5 * 5, 120)\n",
        "        self.fc2 = nn.Linear(120, 84)\n",
        "        self.fc3 = nn.Linear(84, 10)\n",
        "\n",
        "    def forward(self, x):\n",
        "        x = self.pool(F.relu(self.conv1(x)))\n",
        "        x = self.pool(F.relu(self.conv2(x)))\n",
        "        x = x.view(-1, 16 * 5 * 5)\n",
        "        x = F.relu(self.fc1(x))\n",
        "        x = F.relu(self.fc2(x))\n",
        "        x = self.fc3(x)\n",
        "        return x\n",
        "\n",
        "\n",
        "net = Net().to(device)\n",
        "print(net)"
      ],
      "execution_count": 6,
      "outputs": [
        {
          "output_type": "stream",
          "name": "stdout",
          "text": [
            "Net(\n",
            "  (conv1): Conv2d(3, 6, kernel_size=(5, 5), stride=(1, 1))\n",
            "  (pool): MaxPool2d(kernel_size=2, stride=2, padding=0, dilation=1, ceil_mode=False)\n",
            "  (conv2): Conv2d(6, 16, kernel_size=(5, 5), stride=(1, 1))\n",
            "  (fc1): Linear(in_features=400, out_features=120, bias=True)\n",
            "  (fc2): Linear(in_features=120, out_features=84, bias=True)\n",
            "  (fc3): Linear(in_features=84, out_features=10, bias=True)\n",
            ")\n"
          ]
        }
      ]
    },
    {
      "cell_type": "markdown",
      "metadata": {
        "id": "4FffAuyrfWQx"
      },
      "source": [
        "Let's compile the model and test it again."
      ]
    },
    {
      "cell_type": "code",
      "metadata": {
        "id": "mfuSe7CHfWQx",
        "outputId": "b5012b27-2a45-4d07-9a57-b8720be71804",
        "colab": {
          "base_uri": "https://localhost:8080/"
        }
      },
      "source": [
        "\n",
        "criterion = nn.CrossEntropyLoss()\n",
        "optimizer = optim.SGD(net.parameters(), lr=0.001, momentum=0.9)\n",
        "\n",
        "for epoch in range(30):  # loop over the dataset multiple times\n",
        "\n",
        "    running_loss = 0.0\n",
        "    for i, data in enumerate(trainloader, 0):\n",
        "        # get the inputs; data is a list of [inputs, labels]\n",
        "        inputs, labels = data\n",
        "        inputs, labels = inputs.to(device), labels.to(device)\n",
        "\n",
        "        # zero the parameter gradients\n",
        "        optimizer.zero_grad()\n",
        "\n",
        "        # forward + backward + optimize\n",
        "        outputs = net(inputs)\n",
        "        loss = criterion(outputs, labels)\n",
        "        loss.backward()\n",
        "        optimizer.step()\n",
        "\n",
        "        # print statistics\n",
        "        running_loss += loss.item()\n",
        "        if i % 128 == 127:    # print every 2000 mini-batches\n",
        "            print('[%d, %5d] loss: %.3f' %\n",
        "                  (epoch + 1, i + 1, running_loss / 128))\n",
        "            running_loss = 0.0\n",
        "\n",
        "print('Finished Training')\n"
      ],
      "execution_count": 7,
      "outputs": [
        {
          "output_type": "stream",
          "name": "stderr",
          "text": [
            "/usr/local/lib/python3.7/dist-packages/torch/utils/data/dataloader.py:481: UserWarning: This DataLoader will create 8 worker processes in total. Our suggested max number of worker in current system is 2, which is smaller than what this DataLoader is going to create. Please be aware that excessive worker creation might get DataLoader running slow or even freeze, lower the worker number to avoid potential slowness/freeze if necessary.\n",
            "  cpuset_checked))\n"
          ]
        },
        {
          "output_type": "stream",
          "name": "stdout",
          "text": [
            "[1,   128] loss: 2.304\n",
            "[1,   256] loss: 2.304\n",
            "[1,   384] loss: 2.302\n",
            "[2,   128] loss: 2.302\n",
            "[2,   256] loss: 2.301\n",
            "[2,   384] loss: 2.299\n",
            "[3,   128] loss: 2.296\n",
            "[3,   256] loss: 2.291\n",
            "[3,   384] loss: 2.283\n",
            "[4,   128] loss: 2.264\n",
            "[4,   256] loss: 2.230\n",
            "[4,   384] loss: 2.179\n",
            "[5,   128] loss: 2.085\n",
            "[5,   256] loss: 2.022\n",
            "[5,   384] loss: 1.976\n",
            "[6,   128] loss: 1.934\n",
            "[6,   256] loss: 1.911\n",
            "[6,   384] loss: 1.879\n",
            "[7,   128] loss: 1.845\n",
            "[7,   256] loss: 1.830\n",
            "[7,   384] loss: 1.791\n",
            "[8,   128] loss: 1.766\n",
            "[8,   256] loss: 1.742\n",
            "[8,   384] loss: 1.718\n",
            "[9,   128] loss: 1.701\n",
            "[9,   256] loss: 1.660\n",
            "[9,   384] loss: 1.646\n",
            "[10,   128] loss: 1.625\n",
            "[10,   256] loss: 1.607\n",
            "[10,   384] loss: 1.583\n",
            "[11,   128] loss: 1.563\n",
            "[11,   256] loss: 1.544\n",
            "[11,   384] loss: 1.521\n",
            "[12,   128] loss: 1.512\n",
            "[12,   256] loss: 1.492\n",
            "[12,   384] loss: 1.500\n",
            "[13,   128] loss: 1.478\n",
            "[13,   256] loss: 1.452\n",
            "[13,   384] loss: 1.451\n",
            "[14,   128] loss: 1.439\n",
            "[14,   256] loss: 1.426\n",
            "[14,   384] loss: 1.427\n",
            "[15,   128] loss: 1.411\n",
            "[15,   256] loss: 1.408\n",
            "[15,   384] loss: 1.385\n",
            "[16,   128] loss: 1.389\n",
            "[16,   256] loss: 1.374\n",
            "[16,   384] loss: 1.366\n",
            "[17,   128] loss: 1.345\n",
            "[17,   256] loss: 1.360\n",
            "[17,   384] loss: 1.360\n",
            "[18,   128] loss: 1.343\n",
            "[18,   256] loss: 1.337\n",
            "[18,   384] loss: 1.324\n",
            "[19,   128] loss: 1.306\n",
            "[19,   256] loss: 1.311\n",
            "[19,   384] loss: 1.321\n",
            "[20,   128] loss: 1.304\n",
            "[20,   256] loss: 1.300\n",
            "[20,   384] loss: 1.286\n",
            "[21,   128] loss: 1.280\n",
            "[21,   256] loss: 1.265\n",
            "[21,   384] loss: 1.279\n",
            "[22,   128] loss: 1.264\n",
            "[22,   256] loss: 1.263\n",
            "[22,   384] loss: 1.242\n",
            "[23,   128] loss: 1.232\n",
            "[23,   256] loss: 1.239\n",
            "[23,   384] loss: 1.239\n",
            "[24,   128] loss: 1.220\n",
            "[24,   256] loss: 1.222\n",
            "[24,   384] loss: 1.214\n",
            "[25,   128] loss: 1.203\n",
            "[25,   256] loss: 1.208\n",
            "[25,   384] loss: 1.195\n",
            "[26,   128] loss: 1.183\n",
            "[26,   256] loss: 1.186\n",
            "[26,   384] loss: 1.195\n",
            "[27,   128] loss: 1.171\n",
            "[27,   256] loss: 1.175\n",
            "[27,   384] loss: 1.161\n",
            "[28,   128] loss: 1.167\n",
            "[28,   256] loss: 1.149\n",
            "[28,   384] loss: 1.145\n",
            "[29,   128] loss: 1.142\n",
            "[29,   256] loss: 1.151\n",
            "[29,   384] loss: 1.133\n",
            "[30,   128] loss: 1.140\n",
            "[30,   256] loss: 1.113\n",
            "[30,   384] loss: 1.124\n",
            "Finished Training\n"
          ]
        }
      ]
    },
    {
      "cell_type": "markdown",
      "metadata": {
        "id": "TMv76B48fWQ1"
      },
      "source": [
        "Let's evaluate the model again."
      ]
    },
    {
      "cell_type": "code",
      "metadata": {
        "id": "NgKzhIIOfWQ1",
        "outputId": "b8ff4a68-eca8-4acb-a1cd-560a549a0427",
        "colab": {
          "base_uri": "https://localhost:8080/"
        }
      },
      "source": [
        "correct = 0\n",
        "total = 0\n",
        "with torch.no_grad():\n",
        "    for data in testloader:\n",
        "        images, labels = data\n",
        "        images, labels = images.to(device), labels.to(device)\n",
        "        outputs = net(images)\n",
        "        _, predicted = torch.max(outputs.data, 1)\n",
        "        total += labels.size(0)\n",
        "        correct += (predicted == labels).sum().item()\n",
        "\n",
        "print('Accuracy of the network on the 10000 test images: %d %%' % (\n",
        "    100 * correct / total))"
      ],
      "execution_count": 8,
      "outputs": [
        {
          "output_type": "stream",
          "name": "stderr",
          "text": [
            "/usr/local/lib/python3.7/dist-packages/torch/utils/data/dataloader.py:481: UserWarning: This DataLoader will create 8 worker processes in total. Our suggested max number of worker in current system is 2, which is smaller than what this DataLoader is going to create. Please be aware that excessive worker creation might get DataLoader running slow or even freeze, lower the worker number to avoid potential slowness/freeze if necessary.\n",
            "  cpuset_checked))\n"
          ]
        },
        {
          "output_type": "stream",
          "name": "stdout",
          "text": [
            "Accuracy of the network on the 10000 test images: 57 %\n"
          ]
        }
      ]
    },
    {
      "cell_type": "markdown",
      "metadata": {
        "id": "kOah5GZ3fWQ3"
      },
      "source": [
        "58% accuracy is a big improvement on practically nothing! All of that is accomplished in just 2 epochs using convolutional layers and ReLUs. \n",
        "\n",
        "Let's try to make the network bigger."
      ]
    },
    {
      "cell_type": "markdown",
      "metadata": {
        "id": "lkDH4GhmfWQ9"
      },
      "source": [
        "One problem you might notice is that the accuracy of the model is much better on the training set than on the test set. You can see that by monitoring the progress at the end of each epoch above or by evaluating it directly."
      ]
    },
    {
      "cell_type": "markdown",
      "metadata": {
        "id": "Q4KJd9DafWQ_"
      },
      "source": [
        "This is a symptom of \"overfitting\".  Our model has probably tried to bend itself a little too well towards predicting the training set but does not generalize very well to unseen data. This is a very common problem. \n",
        "\n",
        "It's normal for the training accuracy to be better than the testng accuracy to some degree, because it's hard to avoid for the network to be better at predicting the data it sees. But a 9% difference is too much.\n",
        "\n",
        "One way of helping this is by doing some regularization. We can add dropout to our model after a few layers.\n",
        "\n",
        "All this is arguably most essential, albeit timeconsuming, part of designing a neural network: Editting hyperparamenters."
      ]
    },
    {
      "cell_type": "markdown",
      "metadata": {
        "id": "1Be7qE7UfWRC"
      },
      "source": [
        "We compile and train again."
      ]
    },
    {
      "cell_type": "markdown",
      "metadata": {
        "id": "JkCb3E_QfWRF"
      },
      "source": [
        "Training accuracy will likely lower but our test accuracy will increase.  This is more like what we expect."
      ]
    },
    {
      "cell_type": "markdown",
      "metadata": {
        "id": "krWf3QT8fWRH"
      },
      "source": [
        "Another way of improving performance is to experiment with different optimizers beyond just standard sgd. Let's try to instantiate the same network but use ADAM instead of sgd."
      ]
    },
    {
      "cell_type": "code",
      "metadata": {
        "id": "baM0F0gsfWRI",
        "outputId": "218cb972-55d4-4bed-d5a6-94fbf1ca13ea",
        "colab": {
          "base_uri": "https://localhost:8080/"
        }
      },
      "source": [
        "\n",
        "criterion = nn.CrossEntropyLoss()\n",
        "optimizer = optim.Adam(net.parameters(), lr=0.001)\n",
        "\n",
        "for epoch in range(5):  # loop over the dataset multiple times\n",
        "\n",
        "    running_loss = 0.0\n",
        "    for i, data in enumerate(trainloader, 0):\n",
        "        # get the inputs; data is a list of [inputs, labels]\n",
        "        inputs, labels = data\n",
        "        inputs, labels = inputs.to(device), labels.to(device)\n",
        "\n",
        "        # zero the parameter gradients\n",
        "        optimizer.zero_grad()\n",
        "\n",
        "        # forward + backward + optimize\n",
        "        outputs = net(inputs)\n",
        "        loss = criterion(outputs, labels)\n",
        "        loss.backward()\n",
        "        optimizer.step()\n",
        "\n",
        "        # print statistics\n",
        "        running_loss += loss.item()\n",
        "        if i % 128 == 127:    # print every 2000 mini-batches\n",
        "            print('[%d, %5d] loss: %.3f' %\n",
        "                  (epoch + 1, i + 1, running_loss / 128))\n",
        "            running_loss = 0.0\n",
        "\n",
        "print('Finished Training')"
      ],
      "execution_count": 9,
      "outputs": [
        {
          "output_type": "stream",
          "name": "stderr",
          "text": [
            "/usr/local/lib/python3.7/dist-packages/torch/utils/data/dataloader.py:481: UserWarning: This DataLoader will create 8 worker processes in total. Our suggested max number of worker in current system is 2, which is smaller than what this DataLoader is going to create. Please be aware that excessive worker creation might get DataLoader running slow or even freeze, lower the worker number to avoid potential slowness/freeze if necessary.\n",
            "  cpuset_checked))\n"
          ]
        },
        {
          "output_type": "stream",
          "name": "stdout",
          "text": [
            "[1,   128] loss: 1.203\n",
            "[1,   256] loss: 1.170\n",
            "[1,   384] loss: 1.172\n",
            "[2,   128] loss: 1.144\n",
            "[2,   256] loss: 1.114\n",
            "[2,   384] loss: 1.122\n",
            "[3,   128] loss: 1.065\n",
            "[3,   256] loss: 1.082\n",
            "[3,   384] loss: 1.064\n",
            "[4,   128] loss: 1.024\n",
            "[4,   256] loss: 1.017\n",
            "[4,   384] loss: 1.020\n",
            "[5,   128] loss: 0.977\n",
            "[5,   256] loss: 0.994\n",
            "[5,   384] loss: 0.979\n",
            "Finished Training\n"
          ]
        }
      ]
    },
    {
      "cell_type": "code",
      "metadata": {
        "id": "1XR3cDVXfWRJ",
        "outputId": "0090dddc-3bc5-491b-b5e6-505368886247",
        "colab": {
          "base_uri": "https://localhost:8080/"
        }
      },
      "source": [
        "correct = 0\n",
        "total = 0\n",
        "with torch.no_grad():\n",
        "    for data in testloader:\n",
        "        images, labels = data\n",
        "        images, labels = images.to(device), labels.to(device)\n",
        "        outputs = net(images)\n",
        "        _, predicted = torch.max(outputs.data, 1)\n",
        "        total += labels.size(0)\n",
        "        correct += (predicted == labels).sum().item()\n",
        "\n",
        "print('Accuracy of the network on the 10000 test images: %d %%' % (\n",
        "    100 * correct / total))\n"
      ],
      "execution_count": 10,
      "outputs": [
        {
          "output_type": "stream",
          "name": "stderr",
          "text": [
            "/usr/local/lib/python3.7/dist-packages/torch/utils/data/dataloader.py:481: UserWarning: This DataLoader will create 8 worker processes in total. Our suggested max number of worker in current system is 2, which is smaller than what this DataLoader is going to create. Please be aware that excessive worker creation might get DataLoader running slow or even freeze, lower the worker number to avoid potential slowness/freeze if necessary.\n",
            "  cpuset_checked))\n"
          ]
        },
        {
          "output_type": "stream",
          "name": "stdout",
          "text": [
            "Accuracy of the network on the 10000 test images: 62 %\n"
          ]
        }
      ]
    },
    {
      "cell_type": "markdown",
      "metadata": {
        "id": "02CppcGwfWRM"
      },
      "source": [
        "61% accuracy! Our best yet. Looks heavily overfit though...\n",
        "\n",
        "Still a long way to go to beat the [record](http://rodrigob.github.io/are_we_there_yet/build/classification_datasets_results.html#43494641522d3130) (96%).  We can make a lot of progress by making the network (much) bigger, training for (much) longer and using a lot of little tricks (like data augmentation) but that is beyond the scope of this lesson for now."
      ]
    },
    {
      "cell_type": "markdown",
      "metadata": {
        "id": "8EfQfVcdfWRM"
      },
      "source": [
        "Let's also recall how to predict a single value and look at its probabilities."
      ]
    },
    {
      "cell_type": "code",
      "metadata": {
        "id": "wZA3QfKMfWRN",
        "outputId": "891e658d-aa56-4a55-b472-0b7382860403",
        "colab": {
          "base_uri": "https://localhost:8080/",
          "height": 358
        }
      },
      "source": [
        "dataiter = iter(testloader)\n",
        "images, labels = dataiter.next()\n",
        "\n",
        "# print images\n",
        "imshow(torchvision.utils.make_grid(images))\n",
        "print('GroundTruth: ', ' '.join('%5s' % classes[labels[j]] for j in range(4)))\n",
        "\n",
        "_, predicted = torch.max(outputs, 1)\n",
        "\n",
        "print('Predicted: ', ' '.join('%5s' % classes[predicted[j]]\n",
        "                              for j in range(4)))"
      ],
      "execution_count": 11,
      "outputs": [
        {
          "output_type": "stream",
          "name": "stderr",
          "text": [
            "/usr/local/lib/python3.7/dist-packages/torch/utils/data/dataloader.py:481: UserWarning: This DataLoader will create 8 worker processes in total. Our suggested max number of worker in current system is 2, which is smaller than what this DataLoader is going to create. Please be aware that excessive worker creation might get DataLoader running slow or even freeze, lower the worker number to avoid potential slowness/freeze if necessary.\n",
            "  cpuset_checked))\n"
          ]
        },
        {
          "output_type": "display_data",
          "data": {
            "image/png": "[encoded data removed]",
            "text/plain": [
              "<Figure size 432x288 with 1 Axes>"
            ]
          },
          "metadata": {
            "needs_background": "light"
          }
        },
        {
          "output_type": "stream",
          "name": "stdout",
          "text": [
            "GroundTruth:    cat  ship  ship plane\n",
            "Predicted:  horse   cat  ship  ship\n"
          ]
        }
      ]
    },
    {
      "cell_type": "markdown",
      "metadata": {
        "id": "Y0XLTnl1fWRO"
      },
      "source": [
        "Let's also review here how to save and load trained PyTorch models. It's easy!"
      ]
    },
    {
      "cell_type": "code",
      "metadata": {
        "id": "BBUZR1xwfWRP",
        "outputId": "45e35c5b-5c00-4d00-a320-fd2983e170ba",
        "colab": {
          "base_uri": "https://localhost:8080/"
        }
      },
      "source": [
        "PATH = './cifar_net.pth'\n",
        "torch.save(net.state_dict(), PATH)\n",
        "\n",
        "torch.load(PATH)"
      ],
      "execution_count": 12,
      "outputs": [
        {
          "output_type": "execute_result",
          "data": {
            "text/plain": [
              "OrderedDict([('conv1.weight',\n",
              "              tensor([[[[ 5.7786e-02,  2.7208e-03,  7.1016e-02, -1.3763e-01, -1.2861e-01],\n",
              "                        [-7.3279e-03, -8.9393e-02,  6.2339e-03, -1.5290e-01, -7.1966e-02],\n",
              "                        [-2.8035e-01, -3.1424e-01, -3.7203e-01, -1.4509e-01, -1.3252e-01],\n",
              "                        [-1.1277e-01, -2.2712e-01, -3.2403e-01, -2.2335e-01, -1.2303e-01],\n",
              "                        [-4.2872e-02, -2.2523e-01, -8.2864e-02, -8.3447e-02,  3.6258e-04]],\n",
              "              \n",
              "                       [[ 1.8779e-03,  7.7599e-02,  1.1875e-01,  1.2626e-01, -4.5171e-02],\n",
              "                        [ 4.2932e-02,  1.8935e-01,  8.8142e-02,  8.6859e-02,  6.6083e-02],\n",
              "                        [-8.4152e-02, -1.5009e-01,  6.1255e-02,  1.1986e-02,  4.8297e-02],\n",
              "                        [-7.2996e-02,  1.5498e-02,  2.7625e-02,  1.0739e-01,  3.7113e-02],\n",
              "                        [-1.1562e-01, -7.6466e-02, -9.8155e-02, -9.7274e-03,  8.8721e-02]],\n",
              "              \n",
              "                       [[ 1.1571e-01,  2.4388e-01,  2.1268e-01,  2.0832e-01,  1.7772e-01],\n",
              "                        [ 1.9722e-01,  1.4546e-01,  2.6511e-01,  2.1313e-01,  1.4528e-01],\n",
              "                        [ 3.0553e-02,  1.1268e-01,  1.1164e-01,  8.2267e-02,  1.1814e-01],\n",
              "                        [ 7.6862e-02,  6.4056e-02, -7.8715e-03,  1.1519e-01,  1.8322e-01],\n",
              "                        [-4.2389e-02, -8.2058e-02, -8.3124e-02,  4.5762e-03,  3.2916e-02]]],\n",
              "              \n",
              "              \n",
              "                      [[[-1.7170e-02,  4.0187e-01,  2.5175e-01, -1.8169e-01,  9.7743e-02],\n",
              "                        [-1.5376e-01, -5.2169e-02, -3.0949e-01, -3.5955e-01,  2.0259e-02],\n",
              "                        [-3.2578e-01, -8.4104e-02, -4.0945e-01, -2.4342e-01,  7.3312e-02],\n",
              "                        [-9.8335e-02,  3.3544e-01,  1.6071e-01,  2.4669e-01,  2.3697e-01],\n",
              "                        [ 8.3865e-02,  1.5180e-01,  4.2213e-03,  1.0312e-01, -3.5361e-02]],\n",
              "              \n",
              "                       [[-1.0115e-01,  4.0041e-01,  4.3243e-01, -1.7981e-01,  3.8005e-02],\n",
              "                        [-8.3906e-02,  1.4961e-01, -5.4419e-02, -2.6077e-01, -1.6617e-02],\n",
              "                        [-2.5605e-01, -2.2564e-01, -3.9732e-01, -2.1602e-02,  7.1732e-02],\n",
              "                        [ 8.1801e-02,  2.0711e-01,  1.3190e-01,  2.3867e-01,  6.2009e-02],\n",
              "                        [-1.4095e-01,  2.3973e-01, -3.9001e-02,  1.1186e-02, -2.3190e-01]],\n",
              "              \n",
              "                       [[-2.7118e-02,  1.2447e-01,  2.5532e-01, -2.2301e-02,  1.7573e-02],\n",
              "                        [ 3.8696e-02,  1.6014e-01, -1.2043e-01, -1.7186e-01,  1.1014e-01],\n",
              "                        [-2.0030e-01, -1.3052e-02, -2.6123e-01,  2.0922e-02,  1.5990e-01],\n",
              "                        [-7.0145e-02,  1.8518e-01, -3.6002e-02,  2.9859e-01,  2.2786e-02],\n",
              "                        [-1.5655e-01,  1.5163e-01, -2.0220e-01, -1.2211e-02, -2.4333e-01]]],\n",
              "              \n",
              "              \n",
              "                      [[[-9.9888e-03, -6.7401e-02, -1.8676e-01,  1.1303e-01,  1.7059e-03],\n",
              "                        [-4.4882e-02, -2.2344e-01, -2.5617e-01, -1.5052e-02,  3.7208e-03],\n",
              "                        [-3.2150e-02,  3.0887e-02,  6.0350e-02,  5.1325e-03, -1.9103e-02],\n",
              "                        [-4.8099e-03,  1.3361e-01,  1.0550e-01,  3.9730e-02, -1.1205e-01],\n",
              "                        [-6.0990e-02,  1.2095e-01,  8.4392e-04,  1.1807e-01, -8.6180e-02]],\n",
              "              \n",
              "                       [[-9.8742e-02, -2.9361e-01, -3.0547e-01, -2.1920e-01,  6.4390e-02],\n",
              "                        [-1.4338e-01, -3.2359e-01, -3.8641e-01, -3.1952e-01, -1.2377e-01],\n",
              "                        [-1.1548e-01, -8.9291e-02, -9.0510e-02, -9.6456e-02, -1.7850e-02],\n",
              "                        [ 2.7342e-03, -8.7894e-03, -1.1060e-02,  1.3540e-01, -8.0235e-02],\n",
              "                        [ 6.6910e-02, -3.6538e-02,  1.7681e-01,  5.4947e-02,  4.6014e-02]],\n",
              "              \n",
              "                       [[ 3.7359e-02, -7.9182e-02, -3.6442e-02, -1.2987e-01, -4.6224e-02],\n",
              "                        [-4.0306e-02, -9.0542e-02, -1.5001e-01, -2.1381e-01, -5.0937e-02],\n",
              "                        [ 9.0371e-02,  6.4618e-02,  8.5778e-02, -3.5783e-04, -4.1901e-02],\n",
              "                        [ 4.8153e-02,  1.4411e-01,  1.7372e-01,  1.1160e-01,  1.4554e-01],\n",
              "                        [ 2.4212e-01,  1.4260e-01,  2.7334e-01,  1.1031e-01,  1.5296e-01]]],\n",
              "              \n",
              "              \n",
              "                      [[[ 1.3952e-01, -1.8395e-01, -8.0305e-02,  1.3340e-01,  3.4546e-02],\n",
              "                        [ 3.9164e-02, -2.2726e-01, -2.8991e-01,  3.0010e-01,  7.3114e-02],\n",
              "                        [ 1.5344e-01, -3.7255e-01, -8.7042e-02,  3.0048e-01,  1.4243e-01],\n",
              "                        [ 6.6770e-02, -2.5219e-01, -1.3280e-01,  3.3159e-01,  2.6627e-02],\n",
              "                        [ 3.9332e-02, -3.0227e-03,  1.0906e-01,  1.7065e-01,  2.4561e-03]],\n",
              "              \n",
              "                       [[ 2.0491e-02, -2.9446e-01, -1.7005e-01,  1.3615e-01, -1.0309e-01],\n",
              "                        [ 1.7566e-01, -2.8744e-01, -1.7061e-01,  2.3641e-01,  1.7326e-01],\n",
              "                        [-7.9529e-02, -3.8646e-01, -2.3250e-01,  2.3082e-01,  1.2635e-01],\n",
              "                        [-2.9607e-02, -2.0636e-01, -1.5244e-01,  2.1684e-01,  1.5625e-02],\n",
              "                        [ 2.1107e-02, -9.5259e-02, -1.0976e-01,  2.3184e-02, -9.2074e-02]],\n",
              "              \n",
              "                       [[ 1.2916e-01, -2.4783e-01, -1.0453e-01,  7.1217e-02,  2.2933e-01],\n",
              "                        [-2.4108e-03, -4.0940e-01, -2.0164e-01,  2.7975e-01,  1.5693e-01],\n",
              "                        [ 7.8789e-02, -4.5282e-01, -1.7313e-01,  2.8831e-01,  3.2389e-01],\n",
              "                        [-8.7571e-02, -1.7138e-01, -5.4811e-03,  3.6051e-01,  1.6249e-01],\n",
              "                        [-6.9428e-02, -1.0681e-01,  2.9743e-02,  1.7011e-01,  7.1579e-02]]],\n",
              "              \n",
              "              \n",
              "                      [[[ 1.8471e-01,  1.5288e-01, -2.5455e-01,  2.3402e-02,  6.2613e-02],\n",
              "                        [ 2.2478e-01,  1.5291e-01, -3.5577e-01, -6.5219e-02,  5.5228e-02],\n",
              "                        [ 9.1154e-02, -1.2948e-01, -1.6548e-01, -1.6580e-01,  6.1447e-02],\n",
              "                        [-2.1925e-01, -6.4092e-02,  1.0687e-01, -8.8599e-02, -6.3277e-02],\n",
              "                        [-2.1655e-01,  6.1451e-02,  8.8643e-02, -5.2002e-02, -1.0588e-01]],\n",
              "              \n",
              "                       [[ 9.0607e-02, -3.9237e-02, -2.9246e-01, -7.7447e-02,  1.0129e-02],\n",
              "                        [ 2.3816e-01,  7.0557e-02, -3.1189e-01, -4.9700e-02,  1.2818e-01],\n",
              "                        [ 1.5491e-01, -3.8941e-02, -5.2244e-02, -7.9860e-02,  2.0038e-01],\n",
              "                        [-7.2291e-02, -1.0363e-01,  1.9261e-01, -1.9321e-02,  7.8204e-02],\n",
              "                        [-1.9868e-01,  8.7167e-02,  1.4881e-01,  6.5048e-02,  3.8051e-02]],\n",
              "              \n",
              "                       [[ 9.5812e-02,  2.2600e-01, -1.7391e-01, -1.6163e-02, -4.8260e-04],\n",
              "                        [ 1.7139e-01,  5.8371e-02, -2.4997e-01,  3.7148e-03,  3.9098e-02],\n",
              "                        [ 9.0622e-02, -2.3273e-02, -1.8278e-02, -1.8221e-01,  2.3407e-02],\n",
              "                        [-1.0262e-01,  8.7910e-03,  1.3686e-01, -1.2306e-01, -7.1408e-02],\n",
              "                        [-1.0485e-01,  1.4901e-02,  8.2475e-02, -1.5534e-01, -1.2865e-01]]],\n",
              "              \n",
              "              \n",
              "                      [[[ 2.1685e-01,  4.0447e-01,  3.0708e-01,  3.2349e-01,  2.3138e-01],\n",
              "                        [ 2.1607e-01,  2.4432e-01,  3.0776e-01,  3.2762e-01,  1.0643e-01],\n",
              "                        [ 7.7593e-02, -4.8181e-02,  5.6716e-02,  8.3465e-02,  2.0260e-01],\n",
              "                        [-1.2708e-01, -2.1367e-01, -2.5109e-01, -1.7725e-01, -2.7234e-02],\n",
              "                        [-2.6780e-01, -2.2428e-01, -2.2296e-01, -1.2233e-01, -1.0927e-01]],\n",
              "              \n",
              "                       [[-9.6148e-02,  1.1309e-01,  6.1949e-02, -8.7226e-02,  3.8080e-02],\n",
              "                        [-2.5264e-01, -1.2900e-01, -1.6561e-01, -1.5119e-01, -7.7493e-02],\n",
              "                        [-1.6601e-01, -1.4250e-01, -4.7038e-02, -4.9776e-02,  8.6288e-02],\n",
              "                        [-5.6246e-02, -1.1391e-01, -1.6763e-01, -1.3781e-01,  9.3702e-02],\n",
              "                        [ 4.5489e-02, -1.0837e-01, -1.8242e-01, -1.4261e-01, -8.4158e-02]],\n",
              "              \n",
              "                       [[ 5.1963e-02, -9.1342e-02,  1.6673e-02,  9.9576e-02, -4.7968e-02],\n",
              "                        [-6.0914e-02, -1.5577e-01, -1.0810e-01, -7.1068e-02, -1.1492e-01],\n",
              "                        [-6.7693e-02, -1.3360e-01, -2.3321e-02, -5.0511e-02,  1.2463e-01],\n",
              "                        [-2.9203e-02, -4.5459e-02, -1.1664e-03,  4.8728e-02, -1.0535e-02],\n",
              "                        [ 5.4320e-02,  3.5188e-02,  1.1594e-01, -2.9682e-02,  1.1677e-01]]]],\n",
              "                     device='cuda:0')),\n",
              "             ('conv1.bias',\n",
              "              tensor([ 0.6574, -0.0311,  0.3137,  0.0785,  0.6650,  0.0248], device='cuda:0')),\n",
              "             ('conv2.weight',\n",
              "              tensor([[[[ 9.6960e-02,  3.4508e-02,  2.5382e-02, -1.0387e-01, -8.4768e-02],\n",
              "                        [ 1.0527e-01,  1.0808e-01, -1.4379e-01, -8.7339e-02, -7.4140e-02],\n",
              "                        [ 2.2738e-01,  7.8569e-02, -7.9128e-02, -1.2189e-01, -7.9074e-02],\n",
              "                        [ 1.9546e-01,  9.6117e-02, -1.0033e-01, -1.1254e-01, -7.8875e-03],\n",
              "                        [ 3.1154e-02, -1.4693e-02, -1.2984e-01, -8.4884e-02, -5.1007e-02]],\n",
              "              \n",
              "                       [[-2.4828e-01, -2.9462e-01, -1.7382e-01, -1.6735e-01, -3.8795e-02],\n",
              "                        [-2.4398e-01, -2.7578e-01, -1.8208e-01, -1.3797e-01, -1.0076e-01],\n",
              "                        [-6.9795e-02, -1.3297e-01, -1.2242e-01, -7.4385e-02,  1.4616e-02],\n",
              "                        [-1.1355e-01, -6.4085e-02, -1.0077e-01, -1.3280e-01, -2.6259e-02],\n",
              "                        [-6.9425e-02, -1.2378e-01,  1.2458e-02, -8.9024e-02, -8.8053e-02]],\n",
              "              \n",
              "                       [[-1.6707e-01, -1.5140e-01, -2.0238e-02, -3.0350e-02,  3.4722e-02],\n",
              "                        [-3.0374e-02, -1.0535e-01,  4.9503e-02,  4.7901e-02,  1.7882e-02],\n",
              "                        [ 7.8948e-02, -2.9074e-03,  8.2843e-02,  3.1473e-02, -4.1657e-02],\n",
              "                        [-1.1966e-02,  7.7884e-03,  2.8413e-02,  9.5671e-03, -1.4676e-02],\n",
              "                        [-4.7657e-02, -3.9527e-02,  7.1982e-03, -8.5879e-02,  6.1059e-03]],\n",
              "              \n",
              "                       [[-7.0228e-02,  2.0389e-02, -3.1254e-02,  2.7207e-01,  6.7950e-02],\n",
              "                        [-9.2865e-02, -3.5415e-02,  1.3058e-01,  2.2104e-01,  4.4796e-02],\n",
              "                        [-9.1878e-02,  5.2694e-02,  1.3352e-01,  1.5702e-01, -2.4815e-02],\n",
              "                        [-1.1378e-01, -3.3779e-02,  1.0397e-01,  1.5616e-01,  7.5736e-02],\n",
              "                        [-1.0879e-01,  7.7779e-02,  1.6428e-01,  9.3791e-02,  1.3688e-01]],\n",
              "              \n",
              "                       [[-1.5566e-01, -1.0316e-01,  5.4072e-03,  3.6550e-02, -7.7563e-02],\n",
              "                        [-6.6230e-02,  2.6089e-02,  1.0748e-01,  4.4607e-02, -6.1634e-03],\n",
              "                        [-1.3779e-01,  4.3786e-02,  1.3938e-01,  1.1637e-01,  4.1505e-02],\n",
              "                        [-1.6207e-02,  6.9508e-02,  6.4746e-02,  1.0290e-01,  8.1820e-02],\n",
              "                        [ 1.6862e-02,  6.5687e-02,  1.9098e-01,  1.6414e-01,  8.0574e-02]],\n",
              "              \n",
              "                       [[-1.4372e-01, -1.3239e-01, -9.6200e-03,  3.5436e-02, -1.1503e-02],\n",
              "                        [-4.9369e-02, -6.2943e-02, -5.9658e-02, -1.6951e-02, -1.1212e-02],\n",
              "                        [-2.9708e-02, -3.5580e-02, -3.7378e-02,  5.6157e-02, -2.9735e-02],\n",
              "                        [-4.1003e-03, -3.4060e-02, -9.7636e-02,  7.1200e-02,  2.6439e-02],\n",
              "                        [-5.3607e-02, -8.7957e-03, -2.5934e-02, -1.8184e-02, -1.5554e-02]]],\n",
              "              \n",
              "              \n",
              "                      [[[-2.0894e-02, -1.9499e-02, -6.8894e-02,  5.1042e-03, -4.4708e-02],\n",
              "                        [-7.8933e-02,  6.9551e-02,  7.6081e-02,  2.7830e-02, -1.0797e-01],\n",
              "                        [ 6.6361e-02, -6.5161e-02, -2.0241e-02,  2.9117e-02,  8.1086e-02],\n",
              "                        [-5.7376e-04, -1.2008e-01, -1.1147e-01, -2.4892e-02,  1.3147e-01],\n",
              "                        [ 1.3131e-01,  4.6054e-02,  1.4648e-01, -4.6923e-02, -1.5390e-01]],\n",
              "              \n",
              "                       [[ 5.1252e-02,  1.8223e-02,  4.2632e-02, -4.7377e-02,  9.5560e-02],\n",
              "                        [ 1.0240e-01, -6.0192e-02,  7.3627e-02,  5.2354e-02,  1.0609e-01],\n",
              "                        [-8.7362e-02,  1.2905e-01,  1.6958e-01, -4.8805e-02, -8.8593e-02],\n",
              "                        [ 1.3891e-01,  9.5899e-02, -9.7644e-02, -3.3202e-02,  7.0372e-03],\n",
              "                        [ 6.7952e-02, -2.7062e-02, -1.1093e-02, -3.6272e-03,  9.0219e-02]],\n",
              "              \n",
              "                       [[-2.0741e-02, -6.0602e-02, -6.4407e-02, -1.9225e-02, -1.2276e-01],\n",
              "                        [-1.6108e-02, -8.3935e-02, -1.5899e-01,  1.3993e-02, -1.0659e-02],\n",
              "                        [-1.0890e-01,  8.6090e-02,  2.7413e-02, -1.5492e-01, -1.4871e-01],\n",
              "                        [-4.0174e-02,  5.3400e-02,  5.3292e-02, -7.4161e-02, -1.5745e-01],\n",
              "                        [ 1.1384e-01, -7.0756e-02, -2.0450e-01, -6.7661e-02,  1.0940e-01]],\n",
              "              \n",
              "                       [[ 2.3485e-02, -4.9185e-02,  2.7068e-03, -1.0747e-01,  7.5181e-02],\n",
              "                        [-4.7058e-02, -6.7708e-03, -3.8050e-02,  6.0043e-02,  2.9998e-03],\n",
              "                        [-4.8801e-02, -7.9459e-02,  9.4173e-02,  1.0243e-01, -2.0079e-02],\n",
              "                        [ 2.7473e-02,  3.3168e-03, -1.1480e-01, -1.6264e-01,  6.3658e-03],\n",
              "                        [ 1.0945e-01,  6.2021e-02, -3.8053e-02, -1.5773e-01,  8.4353e-03]],\n",
              "              \n",
              "                       [[ 8.0691e-02,  8.1395e-02,  4.0492e-02,  8.7592e-02, -8.5523e-03],\n",
              "                        [ 7.0285e-02, -2.7809e-02,  1.2648e-01,  1.0589e-01,  1.3617e-02],\n",
              "                        [-1.2077e-02,  2.0765e-01,  1.2989e-01, -3.5601e-02, -4.7984e-02],\n",
              "                        [ 6.0195e-02,  1.9904e-02,  3.2315e-02,  4.8984e-02,  1.0545e-01],\n",
              "                        [ 5.4350e-02, -2.0829e-04,  3.0835e-02,  3.5372e-02, -4.1435e-02]],\n",
              "              \n",
              "                       [[ 1.9638e-02, -5.5697e-02,  2.7549e-02, -1.0143e-01, -9.1722e-03],\n",
              "                        [-1.1729e-01,  7.4919e-02,  7.3600e-02, -3.0067e-02, -1.8364e-01],\n",
              "                        [-4.1953e-02, -1.5752e-01, -1.3674e-02,  4.2378e-02,  9.3448e-02],\n",
              "                        [-2.3807e-04, -1.2721e-01, -2.2269e-01, -2.1103e-03,  4.2628e-02],\n",
              "                        [ 5.6102e-02,  9.4027e-02, -8.2570e-03, -7.0430e-02, -1.2566e-01]]],\n",
              "              \n",
              "              \n",
              "                      [[[-6.6345e-02, -5.0508e-02, -4.0879e-02,  1.1364e-02,  8.6822e-03],\n",
              "                        [-3.4602e-02, -9.9855e-02,  2.0639e-02,  1.1754e-02, -5.4142e-02],\n",
              "                        [ 2.5716e-03, -3.3677e-02, -5.2586e-02,  4.0737e-02, -1.2397e-01],\n",
              "                        [-9.8207e-02,  2.0259e-02,  1.0625e-01,  3.4930e-02, -1.6508e-01],\n",
              "                        [-9.2758e-02,  9.8789e-03,  8.1223e-02, -5.1012e-02, -1.2426e-01]],\n",
              "              \n",
              "                       [[ 7.0997e-02,  3.3594e-04,  9.0202e-02,  5.5651e-02,  5.9070e-02],\n",
              "                        [ 1.2877e-01,  1.2870e-01,  5.8546e-02, -3.0407e-03,  2.1078e-01],\n",
              "                        [ 2.0197e-01,  1.0892e-01,  3.6484e-02,  2.2216e-01,  8.8629e-02],\n",
              "                        [-5.0042e-04,  1.1226e-01,  2.1865e-01,  1.3720e-01,  1.2426e-03],\n",
              "                        [-6.3016e-04,  2.1425e-01,  1.0141e-01, -5.6310e-02,  1.1948e-01]],\n",
              "              \n",
              "                       [[-3.9561e-02, -7.0509e-02, -6.8624e-02, -3.3818e-02,  6.5055e-03],\n",
              "                        [-1.2198e-01, -2.9628e-02, -2.5940e-02, -7.2506e-02,  1.0401e-01],\n",
              "                        [ 9.1892e-03,  1.1177e-02, -9.7176e-02,  8.3961e-02,  3.0468e-02],\n",
              "                        [-1.0617e-01, -7.9068e-03,  5.5923e-02,  1.1967e-01, -3.2969e-02],\n",
              "                        [ 3.4348e-02,  2.7863e-02,  1.8540e-01, -3.0114e-03, -1.1658e-01]],\n",
              "              \n",
              "                       [[ 5.4892e-02,  5.4605e-02, -4.3381e-02, -8.1318e-02, -8.2697e-02],\n",
              "                        [-1.1619e-02,  1.0891e-01,  3.1984e-02, -8.6829e-02,  1.8583e-01],\n",
              "                        [ 8.8495e-02,  6.6692e-02, -6.6207e-02,  1.0847e-01,  1.2178e-01],\n",
              "                        [ 9.7481e-02, -3.2389e-02,  1.8922e-02,  2.1498e-01,  9.8304e-02],\n",
              "                        [-1.3985e-01, -1.5580e-01,  1.0039e-01, -3.2967e-02, -2.0863e-02]],\n",
              "              \n",
              "                       [[-6.0764e-02, -2.8004e-03,  3.9775e-02, -1.3506e-01,  7.7325e-02],\n",
              "                        [-4.2505e-02,  6.9713e-02, -7.7673e-02, -1.5522e-02,  8.3356e-02],\n",
              "                        [ 1.1937e-01, -4.9450e-02,  7.4798e-02,  1.2571e-01,  8.9963e-02],\n",
              "                        [ 2.9021e-02,  2.7466e-02,  7.3203e-02,  1.1921e-01, -1.3527e-01],\n",
              "                        [ 1.4523e-03,  3.2324e-02,  1.3555e-01, -1.0165e-02, -2.1311e-02]],\n",
              "              \n",
              "                       [[-1.1839e-02,  2.9615e-02, -4.8905e-02, -3.8330e-02,  2.3901e-02],\n",
              "                        [-8.0462e-02, -1.1412e-01, -3.4275e-04,  1.2535e-02,  8.4691e-02],\n",
              "                        [ 2.8056e-02, -6.5946e-02,  3.1397e-02,  5.8430e-02, -8.0796e-02],\n",
              "                        [ 3.4097e-03,  8.3487e-02,  4.1932e-02, -7.2372e-02, -1.0090e-01],\n",
              "                        [-9.6292e-03,  1.2269e-01, -1.2959e-01, -1.2425e-01, -1.2459e-01]]],\n",
              "              \n",
              "              \n",
              "                      ...,\n",
              "              \n",
              "              \n",
              "                      [[[-2.2553e-02, -3.4778e-02,  2.6481e-03, -9.7344e-02, -1.6796e-01],\n",
              "                        [ 7.9482e-02, -6.8743e-02,  4.6816e-02, -1.0020e-02, -9.2191e-02],\n",
              "                        [ 1.0295e-01, -6.3953e-02, -3.6903e-02,  2.1420e-02, -1.2405e-01],\n",
              "                        [ 1.7307e-01, -2.4984e-02, -1.5303e-01, -1.4275e-01, -8.9861e-02],\n",
              "                        [ 1.6149e-01,  6.7058e-02, -6.1048e-02, -1.1902e-01, -1.4504e-01]],\n",
              "              \n",
              "                       [[ 1.3725e-02, -8.1199e-02, -1.1541e-01, -1.9525e-01, -6.3886e-02],\n",
              "                        [ 2.0429e-02,  6.2902e-02,  1.2718e-02, -8.3939e-02, -1.7973e-01],\n",
              "                        [-6.8561e-02, -2.1928e-02, -4.0273e-02, -1.1952e-02, -7.3431e-02],\n",
              "                        [-8.3597e-02, -4.4430e-02, -5.0673e-02, -8.3229e-03, -2.2786e-02],\n",
              "                        [-4.6720e-02, -9.5057e-02, -7.6986e-02, -6.5991e-02, -1.1785e-01]],\n",
              "              \n",
              "                       [[ 7.7253e-02,  1.1863e-02, -1.3187e-01, -8.7589e-02, -4.1314e-03],\n",
              "                        [ 1.5728e-01,  1.0284e-01, -6.3130e-02, -7.5717e-02, -2.2633e-01],\n",
              "                        [-6.4811e-02,  1.2138e-01,  1.2116e-01, -6.5599e-02, -1.9003e-01],\n",
              "                        [-1.3176e-01, -9.5740e-02, -1.9112e-03,  3.0482e-02, -1.1897e-01],\n",
              "                        [-2.2545e-02, -1.1819e-01, -1.0040e-02, -8.1178e-03, -1.7980e-02]],\n",
              "              \n",
              "                       [[ 7.3124e-03, -6.2520e-03, -9.8272e-02, -4.1914e-02, -9.0105e-02],\n",
              "                        [ 7.8629e-03,  3.1391e-02,  2.4077e-02, -3.3995e-02,  3.7129e-02],\n",
              "                        [ 6.6900e-03,  6.3040e-02,  1.0590e-01,  8.0307e-02, -6.0282e-02],\n",
              "                        [ 1.2753e-02,  2.1725e-02,  9.9312e-02,  3.0264e-02, -4.2244e-02],\n",
              "                        [-2.3167e-02,  2.4526e-02, -3.4318e-02,  2.3372e-02,  4.2532e-02]],\n",
              "              \n",
              "                       [[ 4.0346e-02,  2.4966e-02, -3.3287e-02, -7.5403e-02, -1.1095e-01],\n",
              "                        [-5.0450e-02,  2.6665e-02, -4.5135e-03,  9.9491e-04, -8.1804e-02],\n",
              "                        [ 6.3335e-02,  1.2394e-01,  7.2788e-02,  6.3487e-02, -8.7900e-02],\n",
              "                        [ 8.5845e-02,  7.8429e-02,  1.6236e-01,  7.8325e-02,  3.0972e-02],\n",
              "                        [ 2.3748e-02,  2.2281e-02,  1.1536e-01,  8.7652e-02, -1.9507e-02]],\n",
              "              \n",
              "                       [[ 1.4023e-01,  2.1799e-01,  1.4580e-01, -9.7321e-02, -6.8258e-02],\n",
              "                        [-5.1790e-02,  1.4779e-01,  1.6453e-01,  9.2166e-02, -1.1135e-01],\n",
              "                        [-1.3998e-02,  2.8335e-02,  7.4192e-02,  1.3722e-01, -1.0570e-02],\n",
              "                        [ 2.2194e-02,  5.9157e-02, -4.7291e-03,  6.5212e-02,  5.6790e-02],\n",
              "                        [-7.1782e-02, -1.0494e-01, -6.1396e-02,  4.3521e-02,  6.6271e-02]]],\n",
              "              \n",
              "              \n",
              "                      [[[ 1.1903e-01, -8.0147e-02,  2.3434e-02,  8.5343e-02,  2.4182e-02],\n",
              "                        [-2.2675e-02, -1.7365e-02,  1.4178e-02, -6.4493e-02,  5.9494e-02],\n",
              "                        [ 2.2865e-02, -4.6437e-02,  7.6905e-03, -3.7714e-02, -4.8995e-02],\n",
              "                        [-3.9360e-03,  7.7325e-03,  1.7999e-02,  3.6673e-02, -6.1051e-02],\n",
              "                        [ 6.3540e-02, -8.4739e-02, -2.8441e-02, -5.0088e-02, -8.8128e-02]],\n",
              "              \n",
              "                       [[-7.5286e-03, -5.0896e-02, -8.6709e-02, -9.3827e-02, -1.5237e-01],\n",
              "                        [ 1.7737e-02,  1.0877e-01,  9.6814e-02,  6.2477e-02,  6.8835e-02],\n",
              "                        [-7.7924e-03,  6.7398e-02, -9.8051e-04, -1.7706e-02,  7.3517e-02],\n",
              "                        [ 4.7407e-02,  5.0234e-02,  1.2880e-01,  8.0180e-02,  1.0885e-01],\n",
              "                        [ 2.1535e-02,  5.2177e-02,  1.1345e-01,  9.7078e-02,  2.7857e-02]],\n",
              "              \n",
              "                       [[-9.7750e-02, -6.2003e-02, -5.3513e-02, -3.1696e-02, -1.6037e-01],\n",
              "                        [-7.5562e-03,  8.3902e-02,  8.9721e-02,  1.5103e-02,  5.6700e-02],\n",
              "                        [ 7.1142e-02, -3.7473e-02,  4.5607e-02,  9.0031e-02,  5.3465e-02],\n",
              "                        [-9.1614e-02, -1.3578e-01, -9.9873e-02, -6.5071e-02, -2.7811e-02],\n",
              "                        [-1.1460e-01, -5.0258e-02, -1.5924e-01, -1.5916e-02, -6.8617e-02]],\n",
              "              \n",
              "                       [[ 9.8680e-02, -6.5176e-02,  2.6527e-02, -1.0162e-01,  3.1746e-02],\n",
              "                        [ 1.0047e-02,  1.9627e-04,  2.4535e-02,  3.7662e-02, -6.2282e-02],\n",
              "                        [ 1.1063e-01, -1.0221e-02,  1.1676e-01, -3.9682e-02,  1.3717e-01],\n",
              "                        [ 2.2288e-01,  6.0903e-03,  1.6822e-01, -6.2414e-02,  8.4288e-02],\n",
              "                        [ 1.9733e-01,  9.1309e-02,  1.1802e-01, -1.6119e-02,  7.7510e-02]],\n",
              "              \n",
              "                       [[-5.8476e-02, -5.5727e-02, -1.0032e-01, -4.6607e-02,  3.6915e-02],\n",
              "                        [-6.5375e-02,  2.1621e-02, -6.3845e-02, -1.4899e-02, -1.8988e-02],\n",
              "                        [-4.3906e-02,  8.0451e-04, -9.0467e-03, -1.3796e-02,  1.1909e-02],\n",
              "                        [-6.2880e-02, -5.1880e-02, -3.9368e-02, -7.9331e-02,  6.8419e-02],\n",
              "                        [ 9.1738e-03, -5.2936e-02, -7.9082e-02, -1.0593e-01, -5.6259e-02]],\n",
              "              \n",
              "                       [[-3.5713e-02, -3.6381e-03,  3.7634e-02,  8.6212e-03,  1.1150e-01],\n",
              "                        [-2.8013e-02,  4.5290e-02, -3.2604e-03,  9.2226e-02,  2.8433e-03],\n",
              "                        [-1.1847e-01, -9.1224e-02, -9.9963e-02, -9.4728e-02, -1.4971e-01],\n",
              "                        [-9.1052e-02,  1.4019e-02, -3.6958e-02,  1.3404e-02, -7.9510e-02],\n",
              "                        [-3.1875e-02,  8.7425e-03, -3.8788e-02, -9.7816e-03, -2.4481e-02]]],\n",
              "              \n",
              "              \n",
              "                      [[[ 3.6093e-02, -4.1803e-03,  3.7315e-02,  4.9028e-02, -9.5170e-03],\n",
              "                        [-9.9424e-02,  1.5544e-01,  8.4657e-02, -9.6831e-02, -3.3936e-02],\n",
              "                        [-6.7110e-02, -9.8698e-03,  6.8345e-02,  1.3530e-01, -6.3861e-02],\n",
              "                        [-7.0080e-02, -1.2510e-01,  9.2844e-03,  1.8346e-01,  3.8764e-02],\n",
              "                        [ 6.1026e-02, -1.0152e-01, -7.9501e-02, -3.9108e-02,  1.1108e-01]],\n",
              "              \n",
              "                       [[-7.9395e-02, -1.0659e-01, -4.2565e-02, -3.3834e-02, -7.0988e-02],\n",
              "                        [-4.3221e-02, -7.6704e-02, -1.3695e-01, -7.1438e-02, -4.9903e-02],\n",
              "                        [-2.3682e-02, -2.3347e-02, -9.3464e-02, -1.3419e-01, -8.1878e-02],\n",
              "                        [-2.2351e-01, -1.0564e-01, -4.4873e-02,  6.9044e-02, -1.2205e-01],\n",
              "                        [-3.2382e-01, -1.8838e-01, -5.2624e-02,  3.4408e-02, -7.1109e-02]],\n",
              "              \n",
              "                       [[-3.3988e-03,  2.7488e-02,  3.8139e-02,  4.8952e-03, -2.8506e-02],\n",
              "                        [ 9.1388e-02, -9.3525e-02,  8.7531e-02,  1.8451e-02, -7.7648e-03],\n",
              "                        [ 1.3332e-01,  9.4575e-02, -1.6621e-01, -6.5022e-02,  1.1905e-01],\n",
              "                        [ 7.2482e-02,  2.0114e-01,  1.1139e-01, -1.8799e-01, -3.6644e-02],\n",
              "                        [-1.8644e-01,  1.6814e-01,  2.9924e-01,  1.6556e-01, -8.3854e-03]],\n",
              "              \n",
              "                       [[ 1.7497e-01, -1.8424e-02,  1.1998e-02,  2.0333e-02, -4.6812e-02],\n",
              "                        [ 1.4452e-01,  9.3244e-02, -7.3420e-02,  7.8831e-02, -2.1694e-02],\n",
              "                        [-3.3416e-02,  1.4816e-01,  1.3235e-01,  5.2214e-02, -2.6987e-02],\n",
              "                        [-2.8490e-01, -4.2361e-03,  6.0752e-02,  1.1569e-01,  5.6397e-02],\n",
              "                        [-1.0178e-01, -2.9711e-01, -1.4599e-01, -9.0134e-02,  6.8269e-02]],\n",
              "              \n",
              "                       [[-7.8769e-02,  1.3800e-01,  8.1236e-02, -1.4746e-02,  2.5940e-02],\n",
              "                        [ 2.3045e-02, -9.3467e-02,  8.0746e-02, -8.5513e-03, -1.5853e-02],\n",
              "                        [ 6.7422e-02, -4.7272e-02, -5.0593e-02,  6.4456e-02,  2.7016e-02],\n",
              "                        [ 6.6120e-02, -1.6035e-02, -1.2730e-01, -4.5200e-02,  2.2160e-02],\n",
              "                        [-5.1830e-02, -4.6024e-02, -5.5802e-02, -1.3985e-01, -8.0873e-02]],\n",
              "              \n",
              "                       [[ 9.1756e-02,  4.0730e-02, -1.1992e-01, -1.3689e-02,  5.4824e-02],\n",
              "                        [ 7.8131e-02,  1.4097e-01, -5.3604e-02, -1.1623e-01,  4.6116e-02],\n",
              "                        [-1.7180e-01,  1.6138e-01,  2.9428e-02, -8.2900e-02, -1.1830e-01],\n",
              "                        [-6.7341e-02, -7.2642e-02,  5.1199e-02,  1.9226e-01, -6.2619e-02],\n",
              "                        [-1.3161e-02, -1.3973e-01, -9.9807e-02,  4.1578e-02,  1.3503e-01]]]],\n",
              "                     device='cuda:0')),\n",
              "             ('conv2.bias',\n",
              "              tensor([ 0.1299,  0.1308, -0.3233,  0.1579, -0.0499, -0.1068, -0.2165,  0.0915,\n",
              "                       0.1227, -0.1704,  0.0918,  0.3023, -0.1498,  0.1512,  0.1345,  0.0665],\n",
              "                     device='cuda:0')),\n",
              "             ('fc1.weight',\n",
              "              tensor([[ 0.0044,  0.0016, -0.0037,  ..., -0.0583,  0.0272,  0.0245],\n",
              "                      [ 0.0929, -0.0570, -0.0979,  ..., -0.0050,  0.0336,  0.0605],\n",
              "                      [ 0.0447, -0.0469,  0.0354,  ...,  0.0074, -0.0178, -0.0055],\n",
              "                      ...,\n",
              "                      [ 0.0778, -0.0447, -0.1202,  ...,  0.0018,  0.0494,  0.0002],\n",
              "                      [-0.0099,  0.0407, -0.0142,  ..., -0.1022, -0.1132, -0.1396],\n",
              "                      [ 0.0209,  0.0332,  0.1132,  ...,  0.0649,  0.0897,  0.0458]],\n",
              "                     device='cuda:0')),\n",
              "             ('fc1.bias',\n",
              "              tensor([-0.0930, -0.0940, -0.0381,  0.0614, -0.0292, -0.0287, -0.0056,  0.0966,\n",
              "                      -0.0287,  0.2133, -0.0195,  0.0995,  0.1791,  0.0478, -0.0354,  0.1761,\n",
              "                       0.2000,  0.0899,  0.0030, -0.0822, -0.0235, -0.0191,  0.0339,  0.0620,\n",
              "                       0.0784,  0.0426,  0.1034,  0.0720,  0.0461,  0.0065, -0.0897, -0.0856,\n",
              "                       0.2292,  0.0218, -0.1545,  0.1386, -0.0250, -0.0506,  0.0199,  0.0030,\n",
              "                       0.1501, -0.0739, -0.0094,  0.0023,  0.0881,  0.0213,  0.1139,  0.0613,\n",
              "                       0.0806,  0.0090,  0.2128, -0.1117, -0.1296,  0.1510,  0.0414,  0.0634,\n",
              "                       0.0097,  0.0728, -0.0615, -0.0013,  0.0960,  0.1398, -0.0033, -0.0961,\n",
              "                       0.0013,  0.2096,  0.0276,  0.0272, -0.0195, -0.1187, -0.0198, -0.0027,\n",
              "                       0.0273, -0.0430,  0.0768,  0.0474, -0.0633, -0.0818, -0.1488,  0.0586,\n",
              "                       0.0351,  0.2220, -0.0215, -0.0495,  0.1912, -0.0782, -0.1444, -0.1231,\n",
              "                       0.0745,  0.0027, -0.0201,  0.1174,  0.0075,  0.0814, -0.0085, -0.0129,\n",
              "                       0.0856, -0.1181,  0.0478,  0.0326, -0.1143, -0.0624,  0.0174,  0.0311,\n",
              "                      -0.0665,  0.0631,  0.2060,  0.0598, -0.0150, -0.0112,  0.0629,  0.1136,\n",
              "                       0.0006, -0.0636, -0.1727, -0.0595,  0.1434, -0.1390,  0.0268,  0.1063],\n",
              "                     device='cuda:0')),\n",
              "             ('fc2.weight',\n",
              "              tensor([[-0.0645, -0.0986, -0.0349,  ...,  0.0720, -0.0341, -0.0417],\n",
              "                      [ 0.0079, -0.1179, -0.0841,  ...,  0.0493, -0.0959,  0.0736],\n",
              "                      [-0.0871, -0.0363,  0.0044,  ...,  0.0255, -0.0764, -0.0249],\n",
              "                      ...,\n",
              "                      [-0.0122, -0.0174, -0.0353,  ..., -0.0837,  0.0609,  0.0879],\n",
              "                      [-0.0035, -0.0847,  0.0111,  ...,  0.0507, -0.0316,  0.0627],\n",
              "                      [-0.0097,  0.0163, -0.0091,  ...,  0.0824,  0.0584,  0.0782]],\n",
              "                     device='cuda:0')),\n",
              "             ('fc2.bias',\n",
              "              tensor([ 0.1069,  0.0043,  0.0742,  0.1374, -0.0144, -0.0046,  0.2054, -0.0812,\n",
              "                      -0.0588,  0.1429,  0.2588,  0.0396,  0.0556, -0.0374,  0.2472,  0.1117,\n",
              "                       0.0084,  0.1131,  0.1485, -0.0062,  0.0147,  0.1487, -0.1333, -0.0695,\n",
              "                       0.1488,  0.0101,  0.1717, -0.0056, -0.0332, -0.0398, -0.0832,  0.1224,\n",
              "                      -0.0420,  0.0766,  0.0309,  0.1408, -0.0668, -0.2115, -0.0806,  0.1289,\n",
              "                       0.0322, -0.1797, -0.1002, -0.0101, -0.0982,  0.0647,  0.1967,  0.1396,\n",
              "                       0.0274,  0.0131,  0.0010, -0.0572, -0.0071, -0.1629,  0.0418,  0.2444,\n",
              "                       0.1469, -0.0442,  0.0794, -0.0859, -0.1951, -0.1677, -0.0702, -0.0406,\n",
              "                      -0.0401,  0.0343,  0.1307, -0.0218,  0.0401, -0.0621,  0.0061, -0.0511,\n",
              "                       0.0875, -0.0343,  0.2895, -0.0302,  0.0728,  0.1988, -0.1434,  0.3373,\n",
              "                       0.0984,  0.2546, -0.0224, -0.0123], device='cuda:0')),\n",
              "             ('fc3.weight',\n",
              "              tensor([[-2.9962e-01, -7.2365e-02, -7.4161e-03, -1.1137e-01, -1.6822e-01,\n",
              "                        1.8580e-01,  2.5932e-03,  2.1594e-01,  1.8884e-01,  9.2556e-02,\n",
              "                        6.8549e-02, -1.6859e-02,  1.0156e-01,  8.1094e-02,  7.6311e-02,\n",
              "                       -2.4034e-01,  1.6261e-01, -1.7359e-01, -2.4244e-01,  1.7253e-01,\n",
              "                        2.6391e-02,  2.0325e-01, -1.7975e-03, -1.2922e-01,  5.6273e-02,\n",
              "                       -2.0259e-01,  2.8522e-02, -1.3294e-02, -1.0072e-01,  5.0065e-02,\n",
              "                       -8.3907e-02, -3.9865e-02, -1.0673e-01, -1.6798e-01,  2.9123e-01,\n",
              "                        2.7741e-01, -1.9879e-01, -1.6619e-01,  2.8227e-01, -3.0862e-02,\n",
              "                       -1.8124e-01, -5.8819e-02, -1.0874e-01, -1.9179e-01,  7.7391e-02,\n",
              "                        4.0709e-02,  7.6647e-02, -1.0055e-01,  2.8912e-01,  2.4727e-01,\n",
              "                       -2.7627e-02, -8.6530e-02,  1.5517e-03,  1.6949e-01, -1.6177e-01,\n",
              "                        2.0062e-02, -2.6728e-01, -2.9250e-02, -1.9723e-01, -9.5174e-03,\n",
              "                       -3.4780e-02,  1.6816e-01, -8.7089e-02,  1.0782e-02, -3.7146e-02,\n",
              "                       -4.2175e-02,  1.7823e-01,  7.4635e-02,  1.6994e-01,  1.2139e-01,\n",
              "                       -1.1880e-01,  2.0416e-01, -1.5232e-01,  8.0031e-02,  3.5369e-01,\n",
              "                        6.7812e-02, -2.6589e-02,  4.7801e-02,  2.9392e-02, -1.0633e-01,\n",
              "                       -1.5040e-01,  3.3697e-01, -1.7514e-01, -1.3901e-01],\n",
              "                      [-8.9732e-02, -1.8961e-01, -1.4646e-01,  2.9065e-03,  1.9694e-01,\n",
              "                        1.0343e-01, -1.8572e-01, -9.1545e-02, -1.7301e-01, -1.9901e-01,\n",
              "                       -2.7634e-01, -1.5701e-02,  7.3999e-02, -1.9626e-01,  9.3645e-02,\n",
              "                       -3.1443e-01,  4.3387e-02, -1.3299e-01, -2.1189e-02,  2.2953e-01,\n",
              "                       -1.3236e-01,  2.1982e-01,  3.4132e-02, -1.2506e-01, -5.7195e-02,\n",
              "                        4.7083e-02, -2.1909e-01,  1.2441e-01, -2.0207e-02,  2.4426e-02,\n",
              "                       -2.7858e-02,  2.2582e-02,  1.0862e-01, -8.0610e-02, -5.0027e-03,\n",
              "                       -2.0385e-01,  3.3896e-02,  2.3981e-01, -9.6408e-05,  9.5007e-02,\n",
              "                       -2.3187e-01,  1.8123e-01, -3.2597e-03, -8.8923e-02, -9.9015e-02,\n",
              "                       -1.4479e-01, -3.5167e-01,  2.5473e-01, -2.9904e-01, -1.9111e-01,\n",
              "                        2.6357e-02,  9.5140e-02,  6.2753e-02,  6.6226e-02,  8.6615e-02,\n",
              "                       -4.9646e-02,  4.0023e-02, -2.1972e-01, -3.3335e-02, -9.9247e-02,\n",
              "                        2.5149e-01, -1.9724e-01, -6.9569e-02, -8.9977e-02,  1.0631e-03,\n",
              "                        2.6049e-01, -1.6376e-01,  1.8017e-01, -2.0278e-01,  7.3128e-02,\n",
              "                       -2.3432e-03, -7.0931e-02, -2.3322e-01,  1.4757e-01, -1.7360e-01,\n",
              "                       -6.9540e-02,  2.3627e-01, -1.9658e-01, -1.3056e-01, -2.5633e-01,\n",
              "                        2.0562e-01, -1.9175e-01,  1.3570e-01, -3.4442e-02],\n",
              "                      [ 4.9913e-02, -8.5410e-02,  1.7886e-02,  1.9474e-01,  2.4142e-01,\n",
              "                        1.0904e-01,  9.0214e-02, -3.2894e-02, -2.7476e-03, -3.1735e-03,\n",
              "                        9.6921e-02,  2.0698e-01, -3.5415e-02, -1.2833e-01, -3.2926e-01,\n",
              "                       -1.9095e-02,  1.4810e-01,  1.4102e-01, -2.4074e-02,  2.8041e-02,\n",
              "                        1.1280e-01,  7.0025e-02, -9.4065e-02,  1.2108e-01, -6.4212e-03,\n",
              "                        1.3426e-01, -4.9945e-02,  4.6747e-02, -2.1249e-01,  5.0411e-02,\n",
              "                        5.5848e-02, -6.0749e-02,  1.7751e-01,  8.0815e-02, -3.9447e-02,\n",
              "                        1.7626e-01,  1.3818e-01,  1.6594e-01, -5.8288e-02,  3.1147e-01,\n",
              "                        2.9348e-01,  7.6197e-02,  3.5543e-03, -2.9324e-01, -6.8323e-02,\n",
              "                        1.3509e-01,  1.2920e-01, -1.1862e-01,  6.2090e-02,  5.3769e-02,\n",
              "                        8.5208e-02, -1.4358e-01,  1.6518e-01,  1.3251e-01, -3.3266e-02,\n",
              "                       -3.4734e-01,  5.6054e-02,  1.0107e-02, -2.0718e-01, -2.4655e-02,\n",
              "                       -2.0311e-01, -2.0392e-04,  5.9644e-04, -1.6130e-02,  7.0642e-02,\n",
              "                       -2.3288e-01,  1.0197e-01, -1.7327e-02,  1.3589e-01,  1.4759e-01,\n",
              "                        1.8219e-01, -8.4511e-02, -5.2954e-02,  1.5920e-01,  6.4685e-02,\n",
              "                       -1.7135e-02,  5.8595e-02, -1.2021e-01,  2.5102e-01,  1.4119e-01,\n",
              "                       -7.8385e-02, -1.2538e-01, -2.7966e-01, -6.7958e-02],\n",
              "                      [ 8.9254e-02,  2.1707e-01,  2.5753e-02,  1.0988e-01, -6.7083e-03,\n",
              "                        2.2649e-02,  9.8713e-02, -7.9063e-02, -2.1446e-01,  4.4607e-02,\n",
              "                        1.9432e-01, -1.4722e-01,  7.8407e-02,  7.4101e-02, -5.5832e-02,\n",
              "                       -7.2341e-02, -2.1810e-01, -1.6332e-01,  7.7553e-02,  3.9093e-04,\n",
              "                        1.5683e-01, -1.9380e-01, -2.9145e-01, -1.1287e-01, -1.8499e-01,\n",
              "                       -7.9836e-02, -1.4307e-01, -1.2850e-01, -1.0475e-01, -8.0918e-02,\n",
              "                        1.1171e-01,  2.6669e-01, -1.4829e-01, -6.4330e-03,  3.8176e-04,\n",
              "                        8.7023e-02, -1.6093e-02, -8.6142e-02, -3.7547e-02,  8.8584e-02,\n",
              "                        5.4008e-02, -1.2003e-01,  2.3008e-02,  6.5865e-02, -3.7992e-02,\n",
              "                       -1.3182e-01,  2.2549e-01, -5.9680e-02, -2.8698e-02, -5.5136e-02,\n",
              "                       -2.8781e-02,  4.1800e-02, -3.7430e-02, -1.6107e-01,  7.4756e-02,\n",
              "                       -4.3091e-02,  2.1042e-01, -5.2363e-03,  1.1327e-01,  1.4793e-01,\n",
              "                        2.0190e-02,  6.2341e-03, -3.5243e-02, -4.6313e-02,  3.3990e-02,\n",
              "                       -2.0808e-01, -1.0957e-01,  1.3627e-01, -5.3752e-02,  2.6753e-03,\n",
              "                       -6.6875e-02, -5.7519e-02, -2.8047e-02, -1.6219e-02, -3.9374e-02,\n",
              "                       -1.9844e-01, -6.7617e-02,  8.8416e-02, -9.8984e-03,  1.7068e-01,\n",
              "                        1.9739e-01, -5.4727e-02,  1.0742e-01,  6.3703e-02],\n",
              "                      [ 1.5757e-01, -7.1958e-02, -6.9812e-02,  2.3896e-01, -2.0272e-01,\n",
              "                       -2.4166e-01,  1.7863e-02, -1.0702e-01, -2.0419e-02,  2.5435e-01,\n",
              "                        1.2601e-02, -3.7122e-02,  1.6736e-01,  1.4739e-01, -8.9979e-02,\n",
              "                       -3.7285e-02,  7.1694e-02,  2.5338e-01,  2.0156e-01, -5.6785e-02,\n",
              "                       -3.0024e-01,  2.1527e-01,  6.4634e-02, -3.2607e-02,  1.4580e-01,\n",
              "                        2.2189e-01,  5.8192e-02,  1.0570e-01, -2.1414e-01,  4.3173e-03,\n",
              "                       -2.4967e-01,  2.5625e-02, -1.7232e-02, -7.9201e-02,  4.0016e-02,\n",
              "                       -3.9265e-02,  2.0588e-01, -3.8636e-02, -2.2793e-01,  2.2865e-01,\n",
              "                       -1.9699e-01, -2.9180e-01,  8.9779e-02, -2.4817e-01,  8.5305e-02,\n",
              "                        1.4415e-01,  8.9425e-02,  1.5756e-01, -8.6224e-02, -1.2011e-01,\n",
              "                       -2.0555e-03, -1.1175e-02, -7.9921e-02, -1.1941e-01,  9.5132e-02,\n",
              "                        1.3474e-01,  1.4964e-03, -1.4851e-01,  1.5779e-01, -1.3986e-01,\n",
              "                       -1.2634e-01, -2.3586e-01, -8.7632e-02,  6.2873e-02, -1.2287e-01,\n",
              "                       -8.7710e-02,  2.0067e-01, -1.7672e-01, -1.5892e-02, -1.7089e-01,\n",
              "                       -1.3194e-01,  4.7427e-02, -1.7476e-02,  1.1819e-01, -1.1283e-01,\n",
              "                        8.1783e-02, -2.7329e-01,  9.1669e-02, -2.0814e-01,  2.3955e-01,\n",
              "                       -3.1530e-02, -8.5577e-02, -2.5151e-02, -8.7555e-02],\n",
              "                      [-9.3187e-03, -1.7288e-01, -3.0769e-02, -1.5566e-01,  6.0152e-03,\n",
              "                        8.4444e-02, -9.1696e-02, -1.3629e-01, -2.8679e-02,  2.4262e-01,\n",
              "                        2.3369e-01, -7.7323e-02,  1.6158e-01, -2.4592e-02, -1.1745e-01,\n",
              "                        5.4582e-02, -1.5059e-01,  1.0992e-01,  4.9298e-02, -1.9907e-01,\n",
              "                        2.7230e-01, -1.1119e-01, -1.1561e-01, -6.8603e-03,  2.2264e-02,\n",
              "                       -2.9898e-02, -1.8736e-01, -6.7562e-02,  1.5088e-01, -9.7262e-02,\n",
              "                        3.4846e-03,  2.7884e-01, -2.0613e-01, -1.1219e-01, -2.1648e-01,\n",
              "                        1.3385e-01, -1.1713e-01,  9.9625e-02,  2.0876e-01,  6.7549e-02,\n",
              "                       -6.9196e-02,  5.7038e-02, -9.3816e-02,  2.8976e-02, -1.0160e-03,\n",
              "                        2.4564e-02,  1.0465e-01, -2.3556e-01, -1.2358e-01,  4.5409e-02,\n",
              "                        1.9992e-02, -7.1035e-02, -1.1464e-01, -2.2862e-02,  9.5581e-03,\n",
              "                        9.6251e-02, -1.1698e-01, -9.6925e-02,  1.5604e-02,  4.7772e-02,\n",
              "                       -2.4609e-02,  1.2525e-01, -1.1967e-02,  3.8205e-02, -9.7518e-02,\n",
              "                       -2.4462e-01, -1.5181e-01,  1.2124e-01, -1.9459e-01,  2.6125e-02,\n",
              "                        1.5996e-01,  3.6933e-01,  1.7686e-01, -4.4512e-02, -1.4244e-01,\n",
              "                       -1.8447e-01, -7.2150e-02,  2.3208e-01, -1.9227e-01, -4.4304e-02,\n",
              "                       -1.2302e-02, -1.3925e-02,  1.9091e-01, -1.2701e-01],\n",
              "                      [ 1.6644e-01,  3.4146e-01,  1.4729e-02,  1.7190e-01,  1.0214e-01,\n",
              "                        1.5606e-01, -2.9424e-01,  1.6185e-01, -4.6069e-02, -1.0020e-01,\n",
              "                        1.0274e-01,  2.0714e-01,  3.3091e-02,  4.1524e-02, -1.3360e-01,\n",
              "                        2.5166e-02, -1.5103e-01, -9.2946e-02, -5.5260e-03, -1.9919e-01,\n",
              "                        1.4590e-01, -1.9125e-01, -2.2157e-01,  1.8252e-01, -1.7452e-01,\n",
              "                        1.1406e-01,  1.9591e-01, -2.6458e-01,  1.4255e-01,  4.5644e-02,\n",
              "                       -2.3892e-01,  2.3583e-01, -6.5424e-02,  6.2235e-02,  2.5472e-01,\n",
              "                       -2.5850e-01, -2.1575e-01,  4.1691e-02, -1.3062e-01, -2.3426e-01,\n",
              "                        7.3347e-02,  4.7369e-03,  9.6846e-02, -2.6085e-01,  5.9126e-03,\n",
              "                        7.9982e-02,  2.0703e-01, -1.3768e-01,  6.7081e-02, -1.0437e-01,\n",
              "                       -2.7883e-02,  2.0558e-02, -9.1540e-02,  2.2272e-01,  2.0666e-01,\n",
              "                       -1.0691e-01, -7.0772e-03, -1.5558e-01, -1.9551e-02, -1.0172e-01,\n",
              "                        1.1341e-01,  1.9049e-02,  6.8679e-02,  2.7462e-02, -1.1212e-02,\n",
              "                        1.8201e-01, -1.5186e-01, -9.5506e-02,  1.1101e-01,  2.7508e-01,\n",
              "                       -1.5992e-03, -2.4585e-02, -5.4912e-02, -1.5184e-01, -3.2312e-01,\n",
              "                        3.6131e-01, -2.1160e-01, -1.2644e-01,  3.1970e-02, -1.1582e-01,\n",
              "                       -1.5388e-01, -7.7293e-02,  8.9041e-02, -1.0992e-01],\n",
              "                      [-9.2094e-02, -1.8600e-01, -1.2451e-01, -1.3577e-01, -2.5110e-01,\n",
              "                       -7.8815e-02,  3.9221e-01,  1.6502e-01, -7.4740e-02,  2.0818e-01,\n",
              "                        9.3184e-02, -1.5500e-01, -9.3504e-02, -1.5123e-02, -3.0239e-01,\n",
              "                        1.1681e-01, -5.5006e-02, -6.1160e-02,  1.0164e-01, -2.4167e-01,\n",
              "                       -3.0835e-01, -5.5675e-02,  3.8322e-01, -1.3732e-01, -1.2353e-01,\n",
              "                        1.8880e-01,  1.4837e-01,  1.4913e-01,  1.5328e-01,  3.3409e-02,\n",
              "                        8.5490e-02, -4.2597e-02, -1.9268e-01,  2.9160e-01, -2.3382e-01,\n",
              "                        1.6340e-01,  3.4604e-01,  7.9035e-02, -5.9151e-02, -4.5474e-02,\n",
              "                        1.7282e-01, -4.4995e-02,  3.4107e-02, -1.4213e-01, -5.0409e-03,\n",
              "                        1.7107e-01, -1.3001e-01,  1.1979e-01,  1.1661e-01,  9.1037e-02,\n",
              "                       -5.6272e-02,  1.0904e-01,  7.3932e-02, -7.2194e-02,  3.0555e-02,\n",
              "                        6.5722e-02, -1.7495e-01, -2.0112e-01,  1.1345e-01,  6.8547e-02,\n",
              "                        2.3063e-01,  2.4638e-02, -1.5358e-02, -1.0455e-01,  6.3348e-02,\n",
              "                       -3.0843e-01, -1.3883e-01, -2.8241e-03, -6.8759e-02, -2.2938e-02,\n",
              "                        8.4695e-02, -7.0678e-02,  4.6882e-02, -3.8001e-02, -1.1629e-01,\n",
              "                       -2.1119e-01, -8.0040e-02,  1.4658e-01,  7.3678e-02, -3.0085e-01,\n",
              "                       -1.1884e-01, -2.0604e-01,  6.6669e-02,  1.9183e-01],\n",
              "                      [-9.0989e-02, -1.3951e-01,  7.8956e-02,  1.9032e-02,  1.6642e-01,\n",
              "                       -3.9627e-02,  1.3381e-01, -1.5371e-01, -1.3852e-02, -1.8032e-01,\n",
              "                        2.0743e-01,  9.9998e-02,  1.2032e-01, -1.5216e-01,  3.8885e-01,\n",
              "                        2.4528e-01, -5.9638e-03, -2.5262e-01, -2.2024e-01, -6.7610e-02,\n",
              "                        5.8181e-02,  6.4962e-02, -1.7704e-01, -6.5499e-02,  2.3332e-02,\n",
              "                        8.8799e-02,  1.6979e-01, -5.8875e-02,  4.3353e-02, -1.0327e-02,\n",
              "                        1.1413e-01, -1.1968e-01, -1.3807e-02,  3.3075e-01, -1.5519e-01,\n",
              "                       -1.0881e-01, -2.2545e-01, -3.9365e-01, -1.4446e-01, -2.3408e-01,\n",
              "                        1.2826e-01,  4.6565e-02,  3.4330e-03,  2.0316e-01,  6.9108e-02,\n",
              "                       -3.4298e-01, -1.3436e-01,  1.9783e-01, -2.1444e-01, -7.8575e-02,\n",
              "                       -3.6727e-02, -1.5332e-01, -1.5915e-01, -1.9182e-01, -1.7398e-01,\n",
              "                        1.6144e-01, -1.8714e-02,  4.0899e-02,  1.7152e-02, -1.6471e-01,\n",
              "                       -3.8445e-01, -9.6005e-02, -1.4391e-01,  9.1779e-02,  2.7615e-02,\n",
              "                        2.6868e-01, -8.7654e-03, -3.9653e-02, -1.1139e-01, -1.8518e-01,\n",
              "                       -1.6274e-01, -3.1496e-01,  2.3879e-01, -6.6032e-02,  2.3653e-01,\n",
              "                       -1.2161e-01,  1.0659e-01,  1.0942e-01, -2.5356e-02,  2.5618e-01,\n",
              "                        2.5186e-02,  2.7183e-01, -7.8858e-02, -5.4490e-02],\n",
              "                      [-3.5013e-02, -1.2340e-01,  9.0943e-02, -1.8007e-01, -1.6685e-01,\n",
              "                       -3.8321e-03, -1.0393e-01, -2.1048e-01, -2.2258e-02, -1.2419e-01,\n",
              "                       -3.6448e-01, -2.5674e-01, -3.1265e-01,  1.4012e-01,  1.1261e-01,\n",
              "                        3.3124e-01,  1.2373e-02, -2.2449e-01, -1.0996e-02,  1.6871e-01,\n",
              "                        8.2421e-02, -2.2269e-01,  1.3957e-03, -1.8494e-01,  1.0457e-01,\n",
              "                       -1.5415e-01, -1.7480e-01,  2.6904e-02, -1.8065e-02,  8.4871e-02,\n",
              "                        1.7675e-01, -2.7836e-01, -3.6631e-02, -2.1613e-01,  1.2905e-01,\n",
              "                       -2.4802e-01,  2.6839e-01,  1.6876e-01, -9.4089e-02, -1.8261e-01,\n",
              "                        4.5794e-02,  6.0749e-02, -5.1726e-02,  2.0793e-01, -2.8543e-02,\n",
              "                       -6.3836e-02, -9.3300e-02, -3.8489e-02, -6.4941e-02,  1.5823e-01,\n",
              "                       -2.7762e-02,  1.2123e-01, -1.6012e-01,  1.0344e-01, -1.8180e-01,\n",
              "                       -1.4938e-01, -2.3184e-01,  3.1927e-02, -2.4704e-01, -9.1082e-02,\n",
              "                        1.4429e-01, -1.0179e-01, -4.2171e-02, -5.5788e-02,  8.0892e-02,\n",
              "                        1.6487e-01, -1.7135e-01,  2.2261e-01, -1.5868e-01, -1.1033e-01,\n",
              "                       -1.6880e-01, -8.5481e-02, -7.6942e-03,  8.2131e-02,  1.7433e-04,\n",
              "                       -8.0532e-02, -3.6743e-03, -1.7247e-01, -1.8715e-02, -1.7403e-01,\n",
              "                        6.3521e-03, -1.6452e-01,  3.0980e-01,  1.2533e-01]], device='cuda:0')),\n",
              "             ('fc3.bias',\n",
              "              tensor([ 0.1949, -0.3361, -0.0119,  0.1118,  0.1321, -0.0084, -0.1201, -0.2046,\n",
              "                       0.3826, -0.2162], device='cuda:0'))])"
            ]
          },
          "metadata": {},
          "execution_count": 12
        }
      ]
    }
  ]
}