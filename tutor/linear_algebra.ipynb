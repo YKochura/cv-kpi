{
 "cells": [
  {
   "cell_type": "markdown",
   "metadata": {
    "id": "eCiIXGX_vnI9",
    "slideshow": {
     "slide_type": "slide"
    }
   },
   "source": [
    "# Linear algebra"
   ]
  },
  {
   "cell_type": "code",
   "execution_count": 1,
   "metadata": {
    "ExecuteTime": {
     "end_time": "2019-01-22T06:59:37.697347Z",
     "start_time": "2019-01-22T06:59:36.344203Z"
    },
    "id": "EE2orzhWvnJH"
   },
   "outputs": [],
   "source": [
    "import numpy as np"
   ]
  },
  {
   "cell_type": "code",
   "execution_count": 2,
   "metadata": {
    "ExecuteTime": {
     "end_time": "2019-01-22T06:59:37.723391Z",
     "start_time": "2019-01-22T06:59:37.701297Z"
    },
    "colab": {
     "base_uri": "https://localhost:8080/"
    },
    "id": "7R2fFN0qvnJR",
    "outputId": "72bad044-0ebc-40c1-a33d-9445946e4059"
   },
   "outputs": [
    {
     "name": "stdout",
     "output_type": "stream",
     "text": [
      "x + y =  [5. 5.]\n",
      "x * y =  [6. 4.]\n",
      "x / y =  [1.5 4. ]\n",
      "x ** y =  [9. 4.]\n"
     ]
    }
   ],
   "source": [
    "x = np.array([3.0, 4.0])\n",
    "y = np.array([2.0, 1.0])\n",
    "\n",
    "print('x + y = ', x + y)\n",
    "print('x * y = ', x * y)\n",
    "print('x / y = ', x / y)\n",
    "print('x ** y = ', np.power(x,y))"
   ]
  },
  {
   "cell_type": "markdown",
   "metadata": {
    "id": "tmYeqhqXvnJi",
    "slideshow": {
     "slide_type": "slide"
    }
   },
   "source": [
    "## Vectors\n",
    "\n",
    "Vectors are e.g. ``[1.0,3.0,4.0,2.0]``. We use 1D NDArrays."
   ]
  },
  {
   "cell_type": "code",
   "execution_count": 3,
   "metadata": {
    "ExecuteTime": {
     "end_time": "2019-01-22T06:59:37.759425Z",
     "start_time": "2019-01-22T06:59:37.748844Z"
    },
    "colab": {
     "base_uri": "https://localhost:8080/"
    },
    "id": "9pI5mjnWvnJk",
    "outputId": "f8c46bf8-7e4a-44e5-bda2-81a363137d4f"
   },
   "outputs": [
    {
     "name": "stdout",
     "output_type": "stream",
     "text": [
      "x =  [ 0  1  2  3  4  5  6  7  8  9 10 11]\n"
     ]
    }
   ],
   "source": [
    "x = np.arange(12)\n",
    "print('x = ', x) "
   ]
  },
  {
   "cell_type": "code",
   "execution_count": 4,
   "metadata": {
    "ExecuteTime": {
     "end_time": "2019-01-22T06:59:37.790373Z",
     "start_time": "2019-01-22T06:59:37.765817Z"
    },
    "colab": {
     "base_uri": "https://localhost:8080/"
    },
    "id": "hlOAKTt4vnJo",
    "outputId": "e74ce311-04ee-4e8b-880e-20abc7c4f4d3"
   },
   "outputs": [
    {
     "data": {
      "text/plain": [
       "3"
      ]
     },
     "execution_count": 4,
     "metadata": {},
     "output_type": "execute_result"
    }
   ],
   "source": [
    "x[3]"
   ]
  },
  {
   "cell_type": "markdown",
   "metadata": {
    "id": "itYfkCMfvnJs",
    "slideshow": {
     "slide_type": "slide"
    }
   },
   "source": [
    "## Length, dimensionality and shape\n",
    "\n",
    "The length of a vector is commonly called its $dimension$. As with an ordinary Python array, we can access the length of an NDArray\n",
    "by calling Python's in-built ``len()`` function.\n",
    "\n",
    "We can also access a vector's length via its `.shape` attribute.\n",
    "The shape is a tuple that lists the dimensionality along each of its axes."
   ]
  },
  {
   "cell_type": "code",
   "execution_count": 5,
   "metadata": {
    "ExecuteTime": {
     "end_time": "2019-01-22T06:59:37.799655Z",
     "start_time": "2019-01-22T06:59:37.792531Z"
    },
    "colab": {
     "base_uri": "https://localhost:8080/"
    },
    "id": "XMMecNEHvnJv",
    "outputId": "0f802b71-9e05-437f-9bbe-13e8c000d455"
   },
   "outputs": [
    {
     "data": {
      "text/plain": [
       "(12,)"
      ]
     },
     "execution_count": 5,
     "metadata": {},
     "output_type": "execute_result"
    }
   ],
   "source": [
    "x.shape"
   ]
  },
  {
   "cell_type": "markdown",
   "metadata": {
    "id": "lkhrqWzn5rvG"
   },
   "source": [
    "We can also get the total number of elements in the NDArray instance through the size property."
   ]
  },
  {
   "cell_type": "code",
   "execution_count": 6,
   "metadata": {
    "colab": {
     "base_uri": "https://localhost:8080/"
    },
    "id": "Zdhn3xRN5xYE",
    "outputId": "6cc48902-fcac-4c8c-d662-cd0f6955d205"
   },
   "outputs": [
    {
     "data": {
      "text/plain": [
       "12"
      ]
     },
     "execution_count": 6,
     "metadata": {},
     "output_type": "execute_result"
    }
   ],
   "source": [
    "x.size"
   ]
  },
  {
   "cell_type": "markdown",
   "metadata": {
    "id": "NMaQq8AR64Jh",
    "slideshow": {
     "slide_type": "slide"
    }
   },
   "source": [
    "The reshape function change the shape of the line vector $x$ to (3, 4), which is a matrix of 3 rows and 4 columns."
   ]
  },
  {
   "cell_type": "code",
   "execution_count": 7,
   "metadata": {
    "colab": {
     "base_uri": "https://localhost:8080/"
    },
    "id": "RPkZtIpJ7MyS",
    "outputId": "3f08dd2a-6974-47db-baf5-80248ebe6863"
   },
   "outputs": [
    {
     "data": {
      "text/plain": [
       "array([[ 0,  1,  2,  3],\n",
       "       [ 4,  5,  6,  7],\n",
       "       [ 8,  9, 10, 11]])"
      ]
     },
     "execution_count": 7,
     "metadata": {},
     "output_type": "execute_result"
    }
   ],
   "source": [
    "x = x.reshape((3, 4))\n",
    "x"
   ]
  },
  {
   "cell_type": "markdown",
   "metadata": {
    "id": "rAdxaBrdvnJx",
    "slideshow": {
     "slide_type": "slide"
    }
   },
   "source": [
    "The word dimension is overloaded between number of axes and number of elements. **To avoid confusion, when we say *2D* array or *3D* array, we mean an array with 2 or 3 axes respectively. But if we say *$n$-dimensional* vector, we mean a vector of length $n$.**"
   ]
  },
  {
   "cell_type": "code",
   "execution_count": 8,
   "metadata": {
    "ExecuteTime": {
     "end_time": "2019-01-22T06:59:37.819085Z",
     "start_time": "2019-01-22T06:59:37.806667Z"
    },
    "colab": {
     "base_uri": "https://localhost:8080/"
    },
    "id": "rVyhZhESvnJz",
    "outputId": "18050ae0-82cc-4bab-ca80-be23980c35b8"
   },
   "outputs": [
    {
     "name": "stdout",
     "output_type": "stream",
     "text": [
      "[2 4 6]\n",
      "[12 24 36]\n"
     ]
    }
   ],
   "source": [
    "a = 2\n",
    "x = np.array([1, 2, 3])\n",
    "y = np.array([10, 20, 30])\n",
    "print(a * x)\n",
    "print(a * x + y)"
   ]
  },
  {
   "cell_type": "markdown",
   "metadata": {
    "id": "0p3hf-TmvnJ1",
    "slideshow": {
     "slide_type": "slide"
    }
   },
   "source": [
    "## Matrices\n",
    "\n",
    "Just as vectors generalize scalars from order $0$ to order $1$,\n",
    "matrices generalize vectors from $1D$ to $2D$.\n",
    "Matrices, which we'll typically denote with capital letters ($A$, $B$, $C$),\n",
    "are represented in code as arrays with 2 axes.\n",
    "Visually, we can draw a matrix as a table,\n",
    "where each entry $a_{ij}$ belongs to the $i$-th row and $j$-th column.\n",
    "\n",
    "\n",
    "$$A=\\begin{pmatrix}\n",
    " a_{11} & a_{12} & \\cdots & a_{1m} \\\\\n",
    " a_{21} & a_{22} & \\cdots & a_{2m} \\\\\n",
    "\\vdots & \\vdots & \\ddots & \\vdots \\\\\n",
    " a_{n1} & a_{n2} & \\cdots & a_{nm} \\\\\n",
    "\\end{pmatrix}$$"
   ]
  },
  {
   "cell_type": "code",
   "execution_count": 9,
   "metadata": {
    "ExecuteTime": {
     "end_time": "2019-01-22T06:59:37.845855Z",
     "start_time": "2019-01-22T06:59:37.832911Z"
    },
    "colab": {
     "base_uri": "https://localhost:8080/"
    },
    "id": "_bacVp-4vnJ3",
    "outputId": "f82babb5-aeea-4adb-f110-c9c3af472647",
    "slideshow": {
     "slide_type": "-"
    }
   },
   "outputs": [
    {
     "name": "stdout",
     "output_type": "stream",
     "text": [
      "[0 1 2 3 4 5 6 7 8 9]\n",
      "[[ 0  1  2  3]\n",
      " [ 4  5  6  7]\n",
      " [ 8  9 10 11]\n",
      " [12 13 14 15]\n",
      " [16 17 18 19]]\n"
     ]
    }
   ],
   "source": [
    "print(np.arange(10))\n",
    "A = np.arange(20).reshape((5,4))\n",
    "print(A)"
   ]
  },
  {
   "cell_type": "markdown",
   "metadata": {
    "id": "1wYyWYCtvnJ6",
    "slideshow": {
     "slide_type": "slide"
    }
   },
   "source": [
    "We can access elements $a_{ij}$ by specifying row $i$ and column $j$. Leaving them blank selects via `:` takes all ements in the respective dimension. \n",
    "\n",
    "We can transpose the matrix through `T`. That is, if $B = A^T$, then $b_{ij} = a_{ji}$ for any $i$ and $j$."
   ]
  },
  {
   "cell_type": "code",
   "execution_count": 10,
   "metadata": {
    "ExecuteTime": {
     "end_time": "2019-01-22T06:59:37.858642Z",
     "start_time": "2019-01-22T06:59:37.849556Z"
    },
    "colab": {
     "base_uri": "https://localhost:8080/"
    },
    "id": "iuA-jMNkvnJ7",
    "outputId": "d8ec8a32-6a1a-4351-e83d-1cffc834afec"
   },
   "outputs": [
    {
     "name": "stdout",
     "output_type": "stream",
     "text": [
      "[[ 0  4  8 12 16]\n",
      " [ 1  5  9 13 17]\n",
      " [ 2  6 10 14 18]\n",
      " [ 3  7 11 15 19]]\n"
     ]
    }
   ],
   "source": [
    "print(A.T)"
   ]
  },
  {
   "cell_type": "markdown",
   "metadata": {
    "id": "kpE-rse2vnJ-",
    "slideshow": {
     "slide_type": "slide"
    }
   },
   "source": [
    "## Tensors\n",
    "\n",
    "Just as vectors generalize scalars, and matrices generalize vectors, we can increase the number of axes. When working with images the axes correspond to the height, width, and the three (RGB) color channels."
   ]
  },
  {
   "cell_type": "code",
   "execution_count": 11,
   "metadata": {
    "ExecuteTime": {
     "end_time": "2019-01-22T06:59:37.880386Z",
     "start_time": "2019-01-22T06:59:37.869406Z"
    },
    "colab": {
     "base_uri": "https://localhost:8080/"
    },
    "id": "EzFR3LO_vnKA",
    "outputId": "d21c223c-c071-43a9-e93e-794d74f9a73c"
   },
   "outputs": [
    {
     "name": "stdout",
     "output_type": "stream",
     "text": [
      "X.shape = (2, 3, 4)\n",
      "X = [[[ 0  1  2  3]\n",
      "  [ 4  5  6  7]\n",
      "  [ 8  9 10 11]]\n",
      "\n",
      " [[12 13 14 15]\n",
      "  [16 17 18 19]\n",
      "  [20 21 22 23]]]\n"
     ]
    }
   ],
   "source": [
    "X = np.arange(24).reshape((2, 3, 4))\n",
    "print('X.shape =', X.shape)\n",
    "print('X =', X)"
   ]
  },
  {
   "cell_type": "markdown",
   "metadata": {
    "id": "DQU2nj1ZvnKB",
    "slideshow": {
     "slide_type": "slide"
    }
   },
   "source": [
    "## Basic properties of tensor arithmetic\n",
    "\n",
    "Given two tensors $X$ and $Y$ with the same shape,\n",
    "$\\alpha X + Y$ has the same shape\n",
    "(numerical mathematicians call this the AXPY operation)."
   ]
  },
  {
   "cell_type": "code",
   "execution_count": 12,
   "metadata": {
    "ExecuteTime": {
     "end_time": "2019-01-22T06:59:37.896390Z",
     "start_time": "2019-01-22T06:59:37.883657Z"
    },
    "colab": {
     "base_uri": "https://localhost:8080/"
    },
    "id": "5FQsalqNvnKC",
    "outputId": "c3f3d8f4-cbd5-41cf-c400-01bafcb9476e"
   },
   "outputs": [
    {
     "name": "stdout",
     "output_type": "stream",
     "text": [
      "(3,)\n",
      "(3,)\n",
      "(3,)\n",
      "(3,)\n"
     ]
    }
   ],
   "source": [
    "a = 2\n",
    "x = np.ones(3)\n",
    "y = np.zeros(3)\n",
    "print(x.shape)\n",
    "print(y.shape)\n",
    "print((a * x).shape)\n",
    "print((a * x + y).shape)"
   ]
  },
  {
   "cell_type": "markdown",
   "metadata": {
    "id": "QBEM7iZ-vnKD",
    "slideshow": {
     "slide_type": "slide"
    }
   },
   "source": [
    "## Sums and means\n",
    "\n",
    "In math we express sums using the $\\sum$ symbol.\n",
    "To express the sum of the elements in a vector $\\mathbf{u}$ of length $d$,\n",
    "we can write $\\sum_{i=1}^d u_i$. In code, we can just call ``nd.sum()``."
   ]
  },
  {
   "cell_type": "code",
   "execution_count": 13,
   "metadata": {
    "ExecuteTime": {
     "end_time": "2019-01-22T06:59:37.911193Z",
     "start_time": "2019-01-22T06:59:37.899472Z"
    },
    "colab": {
     "base_uri": "https://localhost:8080/"
    },
    "id": "MPKB-YHTvnKE",
    "outputId": "9a860fee-447a-4adf-ead2-03edfe951574"
   },
   "outputs": [
    {
     "name": "stdout",
     "output_type": "stream",
     "text": [
      "[1. 1. 1.]\n",
      "3.0\n"
     ]
    }
   ],
   "source": [
    "print(x)\n",
    "print(np.sum(x))"
   ]
  },
  {
   "cell_type": "markdown",
   "metadata": {
    "id": "y1arw9ezvnKG",
    "slideshow": {
     "slide_type": "slide"
    }
   },
   "source": [
    "We can similarly express sums over the elements of tensors of arbitrary shape. For example, the sum of the elements of an $m \\times n$ matrix $A$ could be written $\\sum_{i=1}^{m} \\sum_{j=1}^{n} a_{ij}$."
   ]
  },
  {
   "cell_type": "code",
   "execution_count": 14,
   "metadata": {
    "ExecuteTime": {
     "end_time": "2019-01-22T06:59:37.922313Z",
     "start_time": "2019-01-22T06:59:37.914364Z"
    },
    "colab": {
     "base_uri": "https://localhost:8080/"
    },
    "id": "F0eM5SelvnKG",
    "outputId": "fb776770-4845-4821-9957-5065a9e7348f"
   },
   "outputs": [
    {
     "name": "stdout",
     "output_type": "stream",
     "text": [
      "[[ 0  1  2  3]\n",
      " [ 4  5  6  7]\n",
      " [ 8  9 10 11]\n",
      " [12 13 14 15]\n",
      " [16 17 18 19]]\n",
      "[40 45 50 55]\n"
     ]
    }
   ],
   "source": [
    "print(A)\n",
    "print(np.sum(A,0))"
   ]
  },
  {
   "cell_type": "markdown",
   "metadata": {
    "id": "16kh09TdvnKH",
    "slideshow": {
     "slide_type": "slide"
    }
   },
   "source": [
    "A related quantity is the *mean*. \n",
    "We calculate the mean by dividing the sum by the total number of elements. In code this is ``np.mean()``.\n",
    "\n",
    "$$\\mathrm{mean}(\\mathbf{u}) = \\frac{1}{d} \\sum_{i=1}^{d} u_i \\text{ and }\n",
    "\\mathrm{mean}(A) = \\frac{1}{n \\cdot m} \\sum_{i=1}^{m} \\sum_{j=1}^{n} a_{ij}$$"
   ]
  },
  {
   "cell_type": "code",
   "execution_count": 15,
   "metadata": {
    "ExecuteTime": {
     "end_time": "2019-01-22T06:59:37.933514Z",
     "start_time": "2019-01-22T06:59:37.925021Z"
    },
    "colab": {
     "base_uri": "https://localhost:8080/"
    },
    "id": "QohjQFBCvnKJ",
    "outputId": "86735130-573e-4214-dd8a-6bd16fc80dbf"
   },
   "outputs": [
    {
     "name": "stdout",
     "output_type": "stream",
     "text": [
      "9.5\n",
      "9.5\n"
     ]
    }
   ],
   "source": [
    "print(np.mean(A))\n",
    "print(np.sum(A) / A.size)"
   ]
  },
  {
   "cell_type": "markdown",
   "metadata": {
    "id": "iqLifh08vnKJ",
    "slideshow": {
     "slide_type": "slide"
    }
   },
   "source": [
    "## Dot products\n",
    "\n",
    "Given two vectors $\\mathbf{u}$ and $\\mathbf{v}$, the dot product $\\mathbf{u}^T \\mathbf{v}$ is a sum over the products of the corresponding elements: $\\mathbf{u}^T \\mathbf{v} = \\sum_{i=1}^{d} u_i \\cdot v_i$."
   ]
  },
  {
   "cell_type": "code",
   "execution_count": 16,
   "metadata": {
    "ExecuteTime": {
     "end_time": "2019-01-22T06:59:37.947256Z",
     "start_time": "2019-01-22T06:59:37.936840Z"
    },
    "colab": {
     "base_uri": "https://localhost:8080/"
    },
    "id": "I8n5vpHovnKK",
    "outputId": "67b50114-602e-4574-f3b8-f22311fb6595"
   },
   "outputs": [
    {
     "name": "stdout",
     "output_type": "stream",
     "text": [
      "[1. 2. 3. 4.] [1. 1. 1. 1.] 10.0\n"
     ]
    }
   ],
   "source": [
    "x = np.arange(4) + 1.0\n",
    "y = np.ones(4)\n",
    "print(x, y, np.dot(x, y))"
   ]
  },
  {
   "cell_type": "markdown",
   "metadata": {
    "id": "FsFOPftzvnKL",
    "slideshow": {
     "slide_type": "slide"
    }
   },
   "source": [
    "Note that we can express the dot product of two vectors ``np.dot(u, v)`` equivalently by performing an element-wise multiplication and then a sum:"
   ]
  },
  {
   "cell_type": "code",
   "execution_count": 17,
   "metadata": {
    "ExecuteTime": {
     "end_time": "2019-01-22T06:59:37.958753Z",
     "start_time": "2019-01-22T06:59:37.950028Z"
    },
    "colab": {
     "base_uri": "https://localhost:8080/"
    },
    "id": "nVZpvlcfvnKL",
    "outputId": "9027a9c0-a59a-4cf2-8625-177a1e7fe42b"
   },
   "outputs": [
    {
     "data": {
      "text/plain": [
       "10.0"
      ]
     },
     "execution_count": 17,
     "metadata": {},
     "output_type": "execute_result"
    }
   ],
   "source": [
    "np.sum(x * y)"
   ]
  },
  {
   "cell_type": "markdown",
   "metadata": {
    "id": "HbWny-tyvnKM",
    "slideshow": {
     "slide_type": "slide"
    }
   },
   "source": [
    "## Matrix-vector products\n",
    "\n",
    "$$A=\\begin{pmatrix}\n",
    " a_{11} & a_{12} & \\cdots & a_{1m} \\\\\n",
    " a_{21} & a_{22} & \\cdots & a_{2m} \\\\\n",
    "\\vdots & \\vdots & \\ddots & \\vdots \\\\\n",
    " a_{n1} & a_{n2} & \\cdots & a_{nm} \\\\\n",
    "\\end{pmatrix},\\quad\\mathbf{x}=\\begin{pmatrix}\n",
    " x_{1}  \\\\\n",
    " x_{2} \\\\\n",
    "\\vdots\\\\\n",
    " x_{m}\\\\\n",
    "\\end{pmatrix} $$\n",
    "\n",
    "$$A\\mathbf{x}=\n",
    "\\begin{pmatrix}\n",
    "\\cdots & \\mathbf{a}^T_{1} &...  \\\\\n",
    "\\cdots & \\mathbf{a}^T_{2} & \\cdots \\\\\n",
    " & \\vdots &  \\\\\n",
    " \\cdots &\\mathbf{a}^T_n & \\cdots \\\\\n",
    "\\end{pmatrix}\n",
    "\\begin{pmatrix}\n",
    " x_{1}  \\\\\n",
    " x_{2} \\\\\n",
    "\\vdots\\\\\n",
    " x_{m}\\\\\n",
    "\\end{pmatrix}\n",
    "= \\begin{pmatrix}\n",
    " \\mathbf{a}^T_{1} \\mathbf{x}  \\\\\n",
    " \\mathbf{a}^T_{2} \\mathbf{x} \\\\\n",
    "\\vdots\\\\\n",
    " \\mathbf{a}^T_{n} \\mathbf{x}\\\\\n",
    "\\end{pmatrix}\n",
    "$$\n",
    "\n",
    "So you can think of multiplication by a matrix $A\\in \\mathbb{R}^{m \\times n}$ as a transformation that projects vectors from $\\mathbb{R}^{m}$ to $\\mathbb{R}^{n}$.\n"
   ]
  },
  {
   "cell_type": "markdown",
   "metadata": {
    "id": "VE56LuHPvnKN",
    "slideshow": {
     "slide_type": "-"
    }
   },
   "source": [
    "We can also use matrix-vector products to describe the calculations of each layer in a neural network.\n",
    "\n",
    "Expressing matrix-vector products in code with ``ndarray``, we use the same ``np.dot()`` function as for dot products. "
   ]
  },
  {
   "cell_type": "code",
   "execution_count": 18,
   "metadata": {
    "ExecuteTime": {
     "end_time": "2019-01-22T06:59:37.972681Z",
     "start_time": "2019-01-22T06:59:37.961622Z"
    },
    "colab": {
     "base_uri": "https://localhost:8080/"
    },
    "id": "2v_I1IyAvnKN",
    "outputId": "2cc3e4c4-6daf-4499-b775-d25b0f6802f9",
    "slideshow": {
     "slide_type": "slide"
    }
   },
   "outputs": [
    {
     "data": {
      "text/plain": [
       "array([[ 0,  1,  2,  3],\n",
       "       [ 4,  5,  6,  7],\n",
       "       [ 8,  9, 10, 11],\n",
       "       [12, 13, 14, 15],\n",
       "       [16, 17, 18, 19]])"
      ]
     },
     "execution_count": 18,
     "metadata": {},
     "output_type": "execute_result"
    }
   ],
   "source": [
    "A = A.reshape((5,4))\n",
    "A"
   ]
  },
  {
   "cell_type": "code",
   "execution_count": 19,
   "metadata": {
    "colab": {
     "base_uri": "https://localhost:8080/"
    },
    "id": "roDx1LmI1lBW",
    "outputId": "c0f6fb03-a45e-4c30-8ef1-cdd95e33bbad"
   },
   "outputs": [
    {
     "data": {
      "text/plain": [
       "array([1., 2., 3., 4.])"
      ]
     },
     "execution_count": 19,
     "metadata": {},
     "output_type": "execute_result"
    }
   ],
   "source": [
    "x"
   ]
  },
  {
   "cell_type": "code",
   "execution_count": 20,
   "metadata": {
    "colab": {
     "base_uri": "https://localhost:8080/"
    },
    "id": "DzittmVk1n3X",
    "outputId": "61c3d750-6643-4b45-fe79-4d5201b680a5"
   },
   "outputs": [
    {
     "data": {
      "text/plain": [
       "array([ 20.,  60., 100., 140., 180.])"
      ]
     },
     "execution_count": 20,
     "metadata": {},
     "output_type": "execute_result"
    }
   ],
   "source": [
    "np.dot(A, x)"
   ]
  },
  {
   "cell_type": "markdown",
   "metadata": {
    "id": "4RnQP_yRvnKO",
    "slideshow": {
     "slide_type": "slide"
    }
   },
   "source": [
    "## Matrix-matrix multiplication\n",
    "\n",
    "If you've gotten the hang of dot products and matrix-vector multiplication, then matrix-matrix multiplications should be pretty straightforward.\n",
    "\n",
    "Say we have two matrices, $A \\in \\mathbb{R}^{n \\times k}$ and $B \\in \\mathbb{R}^{k \\times m}$:\n",
    "\n",
    "$$A=\\begin{pmatrix}\n",
    " a_{11} & a_{12} & \\cdots & a_{1k} \\\\\n",
    " a_{21} & a_{22} & \\cdots & a_{2k} \\\\\n",
    "\\vdots & \\vdots & \\ddots & \\vdots \\\\\n",
    " a_{n1} & a_{n2} & \\cdots & a_{nk} \\\\\n",
    "\\end{pmatrix},\\quad\n",
    "B=\\begin{pmatrix}\n",
    " b_{11} & b_{12} & \\cdots & b_{1m} \\\\\n",
    " b_{21} & b_{22} & \\cdots & b_{2m} \\\\\n",
    "\\vdots & \\vdots & \\ddots & \\vdots \\\\\n",
    " b_{k1} & b_{k2} & \\cdots & b_{km} \\\\\n",
    "\\end{pmatrix}$$"
   ]
  },
  {
   "cell_type": "markdown",
   "metadata": {
    "id": "3uehYJgVvnKP"
   },
   "source": [
    "$$AB = \\begin{pmatrix}\n",
    "\\cdots & \\mathbf{a}^T_{1} &...  \\\\\n",
    "\\cdots & \\mathbf{a}^T_{2} & \\cdots \\\\\n",
    " & \\vdots &  \\\\\n",
    " \\cdots &\\mathbf{a}^T_n & \\cdots \\\\\n",
    "\\end{pmatrix}\n",
    "\\begin{pmatrix}\n",
    "\\vdots & \\vdots &  & \\vdots \\\\\n",
    " \\mathbf{b}_{1} & \\mathbf{b}_{2} & \\cdots & \\mathbf{b}_{m} \\\\\n",
    " \\vdots & \\vdots &  &\\vdots\\\\\n",
    "\\end{pmatrix}\n",
    "= \\begin{pmatrix}\n",
    "\\mathbf{a}^T_{1} \\mathbf{b}_1 & \\mathbf{a}^T_{1}\\mathbf{b}_2& \\cdots & \\mathbf{a}^T_{1} \\mathbf{b}_m \\\\\n",
    " \\mathbf{a}^T_{2}\\mathbf{b}_1 & \\mathbf{a}^T_{2} \\mathbf{b}_2 & \\cdots & \\mathbf{a}^T_{2} \\mathbf{b}_m \\\\\n",
    " \\vdots & \\vdots & \\ddots &\\vdots\\\\\n",
    "\\mathbf{a}^T_{n} \\mathbf{b}_1 & \\mathbf{a}^T_{n}\\mathbf{b}_2& \\cdots& \\mathbf{a}^T_{n} \\mathbf{b}_m\n",
    "\\end{pmatrix}\n",
    "$$\n",
    "\n",
    "You can think of the matrix-matrix multiplication $AB$ as simply performing $m$ matrix-vector products and stitching the results together."
   ]
  },
  {
   "cell_type": "code",
   "execution_count": 21,
   "metadata": {
    "ExecuteTime": {
     "end_time": "2019-01-22T06:59:38.003462Z",
     "start_time": "2019-01-22T06:59:37.989098Z"
    },
    "colab": {
     "base_uri": "https://localhost:8080/"
    },
    "id": "QGxzxESSvnKP",
    "outputId": "1913a4f7-228e-4e08-bc4a-3df110ee06b4",
    "slideshow": {
     "slide_type": "slide"
    }
   },
   "outputs": [
    {
     "data": {
      "text/plain": [
       "array([[ 6.,  6.,  6.],\n",
       "       [22., 22., 22.],\n",
       "       [38., 38., 38.],\n",
       "       [54., 54., 54.],\n",
       "       [70., 70., 70.]])"
      ]
     },
     "execution_count": 21,
     "metadata": {},
     "output_type": "execute_result"
    }
   ],
   "source": [
    "B = np.ones(shape=(4, 3))\n",
    "np.dot(A, B)"
   ]
  },
  {
   "cell_type": "markdown",
   "metadata": {
    "id": "7LM8Wr9-vnKQ",
    "slideshow": {
     "slide_type": "slide"
    }
   },
   "source": [
    "## Norms\n",
    "\n",
    "All norms must satisfy a handful of properties:\n",
    "\n",
    " $$|\\alpha A| = |\\alpha| |A|$$\n",
    " $$|A + B| \\leq |A| + |B|$$\n",
    "$$|A| \\geq 0$$\n",
    "$$\\text{If} \\; \\forall {i,j}, a_{ij} = 0,  \\; \\text{then} \\; |A| = 0$$\n",
    "\n",
    "To calculate the $\\ell_2$ norm, we can just call ``np.linalg.norm()``."
   ]
  },
  {
   "cell_type": "code",
   "execution_count": 22,
   "metadata": {
    "ExecuteTime": {
     "end_time": "2019-01-22T06:59:38.023692Z",
     "start_time": "2019-01-22T06:59:38.010330Z"
    },
    "colab": {
     "base_uri": "https://localhost:8080/"
    },
    "id": "la-h49ZhvnKR",
    "outputId": "fb51ad6a-775e-4a84-c30c-eda25bf96f80"
   },
   "outputs": [
    {
     "data": {
      "text/plain": [
       "5.477225575051661"
      ]
     },
     "execution_count": 22,
     "metadata": {},
     "output_type": "execute_result"
    }
   ],
   "source": [
    "np.linalg.norm(x, 2)"
   ]
  },
  {
   "cell_type": "markdown",
   "metadata": {
    "id": "ZhTbL5o_vnKR",
    "slideshow": {
     "slide_type": "slide"
    }
   },
   "source": [
    "To calculate the $\\ell_1$-norm we can simply perform the absolute value and then sum over the elements."
   ]
  },
  {
   "cell_type": "code",
   "execution_count": 23,
   "metadata": {
    "ExecuteTime": {
     "end_time": "2019-01-22T06:59:38.037641Z",
     "start_time": "2019-01-22T06:59:38.026628Z"
    },
    "colab": {
     "base_uri": "https://localhost:8080/"
    },
    "id": "WVy60P2dvnKT",
    "outputId": "a73cab80-ee8c-402d-f561-e2517d37972f"
   },
   "outputs": [
    {
     "data": {
      "text/plain": [
       "10.0"
      ]
     },
     "execution_count": 23,
     "metadata": {},
     "output_type": "execute_result"
    }
   ],
   "source": [
    "np.sum(np.abs(x))"
   ]
  },
  {
   "cell_type": "markdown",
   "metadata": {
    "id": "Ny8QSaGl5XsW"
   },
   "source": [
    "Or just call "
   ]
  },
  {
   "cell_type": "code",
   "execution_count": 24,
   "metadata": {
    "colab": {
     "base_uri": "https://localhost:8080/"
    },
    "id": "Dy_w6vlC5LCX",
    "outputId": "94c59d16-82dc-45c8-a7bf-0a1b27d154c7"
   },
   "outputs": [
    {
     "data": {
      "text/plain": [
       "10.0"
      ]
     },
     "execution_count": 24,
     "metadata": {},
     "output_type": "execute_result"
    }
   ],
   "source": [
    "np.linalg.norm(x, 1)"
   ]
  }
 ],
 "metadata": {
  "celltoolbar": "Slideshow",
  "colab": {
   "provenance": []
  },
  "kernelspec": {
   "display_name": "Python 3",
   "language": "python",
   "name": "python3"
  },
  "language_info": {
   "codemirror_mode": {
    "name": "ipython",
    "version": 3
   },
   "file_extension": ".py",
   "mimetype": "text/x-python",
   "name": "python",
   "nbconvert_exporter": "python",
   "pygments_lexer": "ipython3",
   "version": "3.7.3"
  }
 },
 "nbformat": 4,
 "nbformat_minor": 1
}
