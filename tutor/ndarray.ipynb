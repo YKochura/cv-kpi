{
  "cells": [
    {
      "cell_type": "markdown",
      "source": [
        "<a href=\"https://colab.research.google.com/github/YKochura/cv-kpi/blob/main/math/ndarray.ipynb.ipynb\" target=\"_parent\"><img src=\"https://colab.research.google.com/assets/colab-badge.svg\" alt=\"Open In Colab\"/></a>"
      ],
      "metadata": {
        "id": "rndrNiM1_afN"
      }
    },
    {
      "cell_type": "markdown",
      "metadata": {
        "id": "AfaCvodO5vFU"
      },
      "source": [
        "# Data Manipulation with Ndarray\n",
        "\n",
        "Importing `numpy` module  "
      ]
    },
    {
      "cell_type": "code",
      "execution_count": 1,
      "metadata": {
        "ExecuteTime": {
          "end_time": "2019-07-03T21:48:38.205412Z",
          "start_time": "2019-07-03T21:48:36.544703Z"
        },
        "attributes": {
          "classes": [],
          "id": "",
          "n": "1"
        },
        "id": "ej4ihuDi5vFY"
      },
      "outputs": [],
      "source": [
        "import numpy as np"
      ]
    },
    {
      "cell_type": "markdown",
      "metadata": {
        "id": "d9K_H__m5vFa"
      },
      "source": [
        "Create a vector and query its attributes"
      ]
    },
    {
      "cell_type": "code",
      "execution_count": 2,
      "metadata": {
        "ExecuteTime": {
          "end_time": "2019-07-03T21:48:38.232852Z",
          "start_time": "2019-07-03T21:48:38.208019Z"
        },
        "attributes": {
          "classes": [],
          "id": "",
          "n": "2"
        },
        "colab": {
          "base_uri": "https://localhost:8080/"
        },
        "id": "g5gAjhfB5vFb",
        "outputId": "006f9873-ca33-4cb3-b1dd-b12df5a451ba"
      },
      "outputs": [
        {
          "output_type": "execute_result",
          "data": {
            "text/plain": [
              "array([ 0,  1,  2,  3,  4,  5,  6,  7,  8,  9, 10, 11])"
            ]
          },
          "metadata": {},
          "execution_count": 2
        }
      ],
      "source": [
        "x = np.arange(12)\n",
        "x"
      ]
    },
    {
      "cell_type": "code",
      "execution_count": 3,
      "metadata": {
        "ExecuteTime": {
          "end_time": "2019-07-03T21:48:38.239446Z",
          "start_time": "2019-07-03T21:48:38.235098Z"
        },
        "attributes": {
          "classes": [],
          "id": "",
          "n": "8"
        },
        "colab": {
          "base_uri": "https://localhost:8080/"
        },
        "id": "39uuCzzU5vFd",
        "outputId": "772121e1-8d7a-44a0-91f8-adb709abc296"
      },
      "outputs": [
        {
          "output_type": "execute_result",
          "data": {
            "text/plain": [
              "(12,)"
            ]
          },
          "metadata": {},
          "execution_count": 3
        }
      ],
      "source": [
        "x.shape"
      ]
    },
    {
      "cell_type": "code",
      "execution_count": 4,
      "metadata": {
        "ExecuteTime": {
          "end_time": "2019-07-03T21:48:38.246552Z",
          "start_time": "2019-07-03T21:48:38.242380Z"
        },
        "attributes": {
          "classes": [],
          "id": "",
          "n": "9"
        },
        "colab": {
          "base_uri": "https://localhost:8080/"
        },
        "id": "BFpqZ3F45vFe",
        "outputId": "9c4982d1-140c-4d9f-dc05-6109102bcf42"
      },
      "outputs": [
        {
          "output_type": "execute_result",
          "data": {
            "text/plain": [
              "12"
            ]
          },
          "metadata": {},
          "execution_count": 4
        }
      ],
      "source": [
        "x.size"
      ]
    },
    {
      "cell_type": "markdown",
      "metadata": {
        "id": "fIgnMBWK5vFf"
      },
      "source": [
        "More ways to construct arrays"
      ]
    },
    {
      "cell_type": "code",
      "execution_count": 5,
      "metadata": {
        "ExecuteTime": {
          "end_time": "2019-07-03T21:48:38.254509Z",
          "start_time": "2019-07-03T21:48:38.248757Z"
        },
        "attributes": {
          "classes": [],
          "id": "",
          "n": "4"
        },
        "colab": {
          "base_uri": "https://localhost:8080/"
        },
        "id": "iBqfXivC5vFg",
        "outputId": "1d5650e6-cc3d-4180-cae6-275302e75a15"
      },
      "outputs": [
        {
          "output_type": "execute_result",
          "data": {
            "text/plain": [
              "array([[0., 0., 0., 0.],\n",
              "       [0., 0., 0., 0.],\n",
              "       [0., 0., 0., 0.]])"
            ]
          },
          "metadata": {},
          "execution_count": 5
        }
      ],
      "source": [
        "np.zeros((3, 4))"
      ]
    },
    {
      "cell_type": "code",
      "execution_count": 6,
      "metadata": {
        "ExecuteTime": {
          "end_time": "2019-07-03T21:48:38.263742Z",
          "start_time": "2019-07-03T21:48:38.256770Z"
        },
        "attributes": {
          "classes": [],
          "id": "",
          "n": "6"
        },
        "colab": {
          "base_uri": "https://localhost:8080/"
        },
        "id": "e4X8ifCM5vFh",
        "outputId": "17bda4b7-ead1-43ce-80aa-99d5a36f93a1"
      },
      "outputs": [
        {
          "output_type": "execute_result",
          "data": {
            "text/plain": [
              "array([[2, 1, 4, 3],\n",
              "       [1, 2, 3, 4],\n",
              "       [4, 3, 2, 1]])"
            ]
          },
          "metadata": {},
          "execution_count": 6
        }
      ],
      "source": [
        "np.array([[2, 1, 4, 3], [1, 2, 3, 4], [4, 3, 2, 1]])"
      ]
    },
    {
      "cell_type": "code",
      "execution_count": 7,
      "metadata": {
        "ExecuteTime": {
          "end_time": "2019-07-03T21:48:38.283115Z",
          "start_time": "2019-07-03T21:48:38.266029Z"
        },
        "attributes": {
          "classes": [],
          "id": "",
          "n": "7"
        },
        "colab": {
          "base_uri": "https://localhost:8080/"
        },
        "id": "iF4MG1vR5vFj",
        "outputId": "36550ff3-817f-4bd3-e3fd-c82ba59630ef"
      },
      "outputs": [
        {
          "output_type": "execute_result",
          "data": {
            "text/plain": [
              "array([[-0.36488904,  0.35244516, -0.2764291 , -1.02793515],\n",
              "       [-2.01988054, -0.14495897, -0.98441473,  0.05356182],\n",
              "       [-0.66435861,  0.04349139,  0.24525069, -1.80923276]])"
            ]
          },
          "metadata": {},
          "execution_count": 7
        }
      ],
      "source": [
        "np.random.normal(0, 1, size=(3, 4))"
      ]
    },
    {
      "cell_type": "markdown",
      "metadata": {
        "id": "t1797e-_5vFk"
      },
      "source": [
        "Elemental-wise operators"
      ]
    },
    {
      "cell_type": "code",
      "execution_count": 8,
      "metadata": {
        "ExecuteTime": {
          "end_time": "2019-07-03T21:48:38.298150Z",
          "start_time": "2019-07-03T21:48:38.286183Z"
        },
        "colab": {
          "base_uri": "https://localhost:8080/"
        },
        "id": "RNq488Z75vFl",
        "outputId": "00188a84-2bf4-45a1-fd8c-fd827a703538"
      },
      "outputs": [
        {
          "output_type": "stream",
          "name": "stdout",
          "text": [
            "x = [1 2 4 8]\n",
            "y = [2 2 2 2]\n",
            "x + y = [ 3  4  6 10]\n",
            "x - y = [-1  0  2  6]\n",
            "x * y = [ 2  4  8 16]\n",
            "x ** y = [ 1  4 16 64]\n",
            "x / y = [0.5 1.  2.  4. ]\n"
          ]
        }
      ],
      "source": [
        "x = np.array([1, 2, 4, 8])\n",
        "y = np.ones_like(x) * 2\n",
        "print('x =', x)\n",
        "print('y =', y)\n",
        "print('x + y =', x + y)\n",
        "print('x - y =', x - y)\n",
        "print('x * y =', x * y)\n",
        "print('x ** y =', x ** y)\n",
        "print('x / y =', x / y)"
      ]
    },
    {
      "cell_type": "markdown",
      "metadata": {
        "id": "keXvmLJG5vFm"
      },
      "source": [
        "Matrix multiplication."
      ]
    },
    {
      "cell_type": "code",
      "execution_count": 9,
      "metadata": {
        "ExecuteTime": {
          "end_time": "2019-07-03T21:48:38.320311Z",
          "start_time": "2019-07-03T21:48:38.300609Z"
        },
        "attributes": {
          "classes": [],
          "id": "",
          "n": "13"
        },
        "colab": {
          "base_uri": "https://localhost:8080/"
        },
        "id": "j0pv1YGV5vFn",
        "outputId": "19ee5947-0b2f-41ce-af2f-b2a8f971c859"
      },
      "outputs": [
        {
          "output_type": "execute_result",
          "data": {
            "text/plain": [
              "array([[ 18,  20,  10],\n",
              "       [ 58,  60,  50],\n",
              "       [ 98, 100,  90]])"
            ]
          },
          "metadata": {},
          "execution_count": 9
        }
      ],
      "source": [
        "x = np.arange(12).reshape((3,4))\n",
        "y = np.array([[2, 1, 4, 3], [1, 2, 3, 4], [4, 3, 2, 1]])\n",
        "np.dot(x, y.T)"
      ]
    },
    {
      "cell_type": "code",
      "source": [
        "x"
      ],
      "metadata": {
        "colab": {
          "base_uri": "https://localhost:8080/"
        },
        "id": "UUe0rvcV8ngn",
        "outputId": "3ee522e8-f7b9-4ff8-c01e-6b7eb00fc401"
      },
      "execution_count": 10,
      "outputs": [
        {
          "output_type": "execute_result",
          "data": {
            "text/plain": [
              "array([[ 0,  1,  2,  3],\n",
              "       [ 4,  5,  6,  7],\n",
              "       [ 8,  9, 10, 11]])"
            ]
          },
          "metadata": {},
          "execution_count": 10
        }
      ]
    },
    {
      "cell_type": "code",
      "source": [
        "y"
      ],
      "metadata": {
        "colab": {
          "base_uri": "https://localhost:8080/"
        },
        "id": "qd6V1z1J9KwN",
        "outputId": "564703a5-7fe9-412b-c660-7a70e8d964bc"
      },
      "execution_count": 11,
      "outputs": [
        {
          "output_type": "execute_result",
          "data": {
            "text/plain": [
              "array([[2, 1, 4, 3],\n",
              "       [1, 2, 3, 4],\n",
              "       [4, 3, 2, 1]])"
            ]
          },
          "metadata": {},
          "execution_count": 11
        }
      ]
    },
    {
      "cell_type": "code",
      "source": [
        "y.T"
      ],
      "metadata": {
        "colab": {
          "base_uri": "https://localhost:8080/"
        },
        "id": "1_8aiBnd8r0V",
        "outputId": "f2812548-8f61-45e6-ea5a-436ed943bf23"
      },
      "execution_count": 12,
      "outputs": [
        {
          "output_type": "execute_result",
          "data": {
            "text/plain": [
              "array([[2, 1, 4],\n",
              "       [1, 2, 3],\n",
              "       [4, 3, 2],\n",
              "       [3, 4, 1]])"
            ]
          },
          "metadata": {},
          "execution_count": 12
        }
      ]
    },
    {
      "cell_type": "markdown",
      "metadata": {
        "id": "jweQQzJd5vFn"
      },
      "source": [
        "Concatenate arrays along a particular axis."
      ]
    },
    {
      "cell_type": "code",
      "execution_count": 13,
      "metadata": {
        "ExecuteTime": {
          "end_time": "2019-07-03T21:48:38.353948Z",
          "start_time": "2019-07-03T21:48:38.322469Z"
        },
        "colab": {
          "base_uri": "https://localhost:8080/"
        },
        "id": "-RScSdik5vFn",
        "outputId": "68bb740b-e827-4ec4-b8ec-5e7eb6e0f7e2"
      },
      "outputs": [
        {
          "output_type": "execute_result",
          "data": {
            "text/plain": [
              "array([[ 0,  1,  2,  3],\n",
              "       [ 4,  5,  6,  7],\n",
              "       [ 8,  9, 10, 11],\n",
              "       [ 2,  1,  4,  3],\n",
              "       [ 1,  2,  3,  4],\n",
              "       [ 4,  3,  2,  1]])"
            ]
          },
          "metadata": {},
          "execution_count": 13
        }
      ],
      "source": [
        "np.concatenate([x, y], axis=0)"
      ]
    },
    {
      "cell_type": "code",
      "source": [
        " np.concatenate([x, y], axis=1)"
      ],
      "metadata": {
        "colab": {
          "base_uri": "https://localhost:8080/"
        },
        "id": "eqs-_VP-9d_w",
        "outputId": "5211e342-2883-4f7c-89dd-5b785cf9d9d5"
      },
      "execution_count": 14,
      "outputs": [
        {
          "output_type": "execute_result",
          "data": {
            "text/plain": [
              "array([[ 0,  1,  2,  3,  2,  1,  4,  3],\n",
              "       [ 4,  5,  6,  7,  1,  2,  3,  4],\n",
              "       [ 8,  9, 10, 11,  4,  3,  2,  1]])"
            ]
          },
          "metadata": {},
          "execution_count": 14
        }
      ]
    },
    {
      "cell_type": "markdown",
      "metadata": {
        "id": "d9gWPY6d5vFo"
      },
      "source": [
        "Broadcast Mechanism"
      ]
    },
    {
      "cell_type": "code",
      "execution_count": 15,
      "metadata": {
        "ExecuteTime": {
          "end_time": "2019-07-03T21:48:38.382407Z",
          "start_time": "2019-07-03T21:48:38.355839Z"
        },
        "attributes": {
          "classes": [],
          "id": "",
          "n": "14"
        },
        "colab": {
          "base_uri": "https://localhost:8080/"
        },
        "id": "ukDwoMli5vFo",
        "outputId": "4bbaef0f-500a-4484-bf87-808e80641a7e"
      },
      "outputs": [
        {
          "output_type": "stream",
          "name": "stdout",
          "text": [
            "a:\n",
            " [[0]\n",
            " [1]\n",
            " [2]]\n",
            "b:\n",
            " [[0 1]]\n"
          ]
        }
      ],
      "source": [
        "a = np.arange(3).reshape((3, 1))\n",
        "b = np.arange(2).reshape((1, 2))\n",
        "print('a:\\n', a)\n",
        "print('b:\\n', b)"
      ]
    },
    {
      "cell_type": "code",
      "source": [
        "a + b"
      ],
      "metadata": {
        "colab": {
          "base_uri": "https://localhost:8080/"
        },
        "id": "mAQ4rJd896KM",
        "outputId": "b5064256-766f-4e3f-83bf-7d395065423e"
      },
      "execution_count": 16,
      "outputs": [
        {
          "output_type": "execute_result",
          "data": {
            "text/plain": [
              "array([[0, 1],\n",
              "       [1, 2],\n",
              "       [2, 3]])"
            ]
          },
          "metadata": {},
          "execution_count": 16
        }
      ]
    },
    {
      "cell_type": "markdown",
      "metadata": {
        "id": "Euyw2iDG5vFo"
      },
      "source": [
        "Indexing and Slicing\n"
      ]
    },
    {
      "cell_type": "code",
      "source": [
        "print('x =\\n', x)"
      ],
      "metadata": {
        "colab": {
          "base_uri": "https://localhost:8080/"
        },
        "id": "qrkZyng--YXa",
        "outputId": "e867009c-ebf9-411e-9bbd-48a30ae605cc"
      },
      "execution_count": 17,
      "outputs": [
        {
          "output_type": "stream",
          "name": "stdout",
          "text": [
            "x =\n",
            " [[ 0  1  2  3]\n",
            " [ 4  5  6  7]\n",
            " [ 8  9 10 11]]\n"
          ]
        }
      ]
    },
    {
      "cell_type": "code",
      "execution_count": 18,
      "metadata": {
        "ExecuteTime": {
          "end_time": "2019-07-03T21:48:38.400208Z",
          "start_time": "2019-07-03T21:48:38.384624Z"
        },
        "attributes": {
          "classes": [],
          "id": "",
          "n": "19"
        },
        "colab": {
          "base_uri": "https://localhost:8080/"
        },
        "id": "voYT07475vFp",
        "outputId": "88052853-c270-4589-8ca3-595212fded64"
      },
      "outputs": [
        {
          "output_type": "stream",
          "name": "stdout",
          "text": [
            "x[-1] =\n",
            " [ 8  9 10 11]\n"
          ]
        }
      ],
      "source": [
        "print('x[-1] =\\n', x[-1])"
      ]
    },
    {
      "cell_type": "code",
      "source": [
        "print('x[1:3] =\\n', x[1:3])"
      ],
      "metadata": {
        "colab": {
          "base_uri": "https://localhost:8080/"
        },
        "id": "Ulepev98-h01",
        "outputId": "f7100e8f-b4ae-4600-fadd-d1ab78d84a4c"
      },
      "execution_count": 19,
      "outputs": [
        {
          "output_type": "stream",
          "name": "stdout",
          "text": [
            "x[1:3] =\n",
            " [[ 4  5  6  7]\n",
            " [ 8  9 10 11]]\n"
          ]
        }
      ]
    },
    {
      "cell_type": "code",
      "source": [
        "print('x[1:3, 2:4] =\\n', x[1:3, 2:4])"
      ],
      "metadata": {
        "colab": {
          "base_uri": "https://localhost:8080/"
        },
        "id": "JjKnOGhp-r-8",
        "outputId": "79925d5f-ed89-4419-f057-7b92db236ad6"
      },
      "execution_count": 20,
      "outputs": [
        {
          "output_type": "stream",
          "name": "stdout",
          "text": [
            "x[1:3, 2:4] =\n",
            " [[ 6  7]\n",
            " [10 11]]\n"
          ]
        }
      ]
    },
    {
      "cell_type": "code",
      "source": [
        "print('x[1,2] =', x[1,2])"
      ],
      "metadata": {
        "colab": {
          "base_uri": "https://localhost:8080/"
        },
        "id": "NtOTCZNj-4US",
        "outputId": "f997b058-7a83-4e42-cffc-55b97ff58fa9"
      },
      "execution_count": 21,
      "outputs": [
        {
          "output_type": "stream",
          "name": "stdout",
          "text": [
            "x[1,2] = 6\n"
          ]
        }
      ]
    },
    {
      "cell_type": "code",
      "source": [
        "print(type(x))"
      ],
      "metadata": {
        "colab": {
          "base_uri": "https://localhost:8080/"
        },
        "id": "n4y725W26oEI",
        "outputId": "a55cc95f-9400-40da-be06-6e782a3ccbf7"
      },
      "execution_count": 22,
      "outputs": [
        {
          "output_type": "stream",
          "name": "stdout",
          "text": [
            "<class 'numpy.ndarray'>\n"
          ]
        }
      ]
    },
    {
      "cell_type": "code",
      "source": [],
      "metadata": {
        "id": "oe5GVGEc680I"
      },
      "execution_count": 22,
      "outputs": []
    }
  ],
  "metadata": {
    "celltoolbar": "Slideshow",
    "kernelspec": {
      "display_name": "Python 3",
      "language": "python",
      "name": "python3"
    },
    "language_info": {
      "codemirror_mode": {
        "name": "ipython",
        "version": 3
      },
      "file_extension": ".py",
      "mimetype": "text/x-python",
      "name": "python",
      "nbconvert_exporter": "python",
      "pygments_lexer": "ipython3",
      "version": "3.7.1"
    },
    "toc": {
      "base_numbering": 1,
      "nav_menu": {},
      "number_sections": true,
      "sideBar": true,
      "skip_h1_title": false,
      "title_cell": "Table of Contents",
      "title_sidebar": "Contents",
      "toc_cell": false,
      "toc_position": {},
      "toc_section_display": true,
      "toc_window_display": false
    },
    "colab": {
      "provenance": []
    }
  },
  "nbformat": 4,
  "nbformat_minor": 0
}